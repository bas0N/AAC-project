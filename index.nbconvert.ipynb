{
 "cells": [
  {
   "cell_type": "markdown",
   "metadata": {},
   "source": [
    "## AAC project"
   ]
  },
  {
   "cell_type": "code",
   "execution_count": 1,
   "metadata": {
    "execution": {
     "iopub.execute_input": "2024-12-05T21:20:57.881235Z",
     "iopub.status.busy": "2024-12-05T21:20:57.880960Z",
     "iopub.status.idle": "2024-12-05T21:20:58.027541Z",
     "shell.execute_reply": "2024-12-05T21:20:58.026870Z"
    }
   },
   "outputs": [],
   "source": [
    "from utils.input_generator_util import InputGeneratorUtil\n",
    "from utils.testing_util import TestingUtil\n",
    "from algorithms.graph_size import GraphSizeCalculator\n",
    "from utils.input_parser_util import InputParserUtil\n",
    "from algorithms.distance_between_graphs import GraphDistanceCalculator\n",
    "from algorithms.cycles import find_all_cycles, approximate_max_cycles, normalize_cycle\n",
    "from algorithms.hamiltonian_cycles_min_extension import min_num_hamiltonian_extension_exact, min_num_hamiltonian_extension_approx\n",
    "from algorithms.hamiltonian_cycles_number import count_hamiltonian_cycles_backtrack,count_hamiltonian_cycles_randomized_biased,count_hamiltonian_cycles_genetic\n"
   ]
  },
  {
   "cell_type": "markdown",
   "metadata": {},
   "source": [
    "### General utils initialisation"
   ]
  },
  {
   "cell_type": "code",
   "execution_count": 2,
   "metadata": {
    "execution": {
     "iopub.execute_input": "2024-12-05T21:20:58.034409Z",
     "iopub.status.busy": "2024-12-05T21:20:58.033878Z",
     "iopub.status.idle": "2024-12-05T21:20:58.038953Z",
     "shell.execute_reply": "2024-12-05T21:20:58.038232Z"
    }
   },
   "outputs": [],
   "source": [
    "inputGeneratorUtil =  InputGeneratorUtil()\n",
    "inputParserUtil = InputParserUtil()"
   ]
  },
  {
   "cell_type": "markdown",
   "metadata": {},
   "source": [
    "## 3.1 Finding the Size of the Graph"
   ]
  },
  {
   "cell_type": "markdown",
   "metadata": {},
   "source": [
    "#### Data preparation"
   ]
  },
  {
   "cell_type": "code",
   "execution_count": 3,
   "metadata": {
    "execution": {
     "iopub.execute_input": "2024-12-05T21:20:58.043232Z",
     "iopub.status.busy": "2024-12-05T21:20:58.042978Z",
     "iopub.status.idle": "2024-12-05T21:20:58.062186Z",
     "shell.execute_reply": "2024-12-05T21:20:58.061522Z"
    }
   },
   "outputs": [],
   "source": [
    "is_3x3_directed, graph_3x3 = inputGeneratorUtil.generate_random_graph(3)\n",
    "graph_3x3_parsed = inputParserUtil.parse_single_graph(graph_3x3)\n",
    "\n",
    "is_10x10_directed, graph_10x10 = inputGeneratorUtil.generate_random_graph(10)\n",
    "graph_10x10_parsed = inputParserUtil.parse_single_graph(graph_10x10)\n",
    "\n",
    "\n",
    "is_100x100_directed, graph_100x100 = inputGeneratorUtil.generate_random_graph(100)\n",
    "graph_100x100_parsed = inputParserUtil.parse_single_graph(graph_100x100)"
   ]
  },
  {
   "cell_type": "markdown",
   "metadata": {},
   "source": [
    "#### Testing utils preparation"
   ]
  },
  {
   "cell_type": "code",
   "execution_count": 4,
   "metadata": {
    "execution": {
     "iopub.execute_input": "2024-12-05T21:20:58.067967Z",
     "iopub.status.busy": "2024-12-05T21:20:58.067711Z",
     "iopub.status.idle": "2024-12-05T21:20:58.073172Z",
     "shell.execute_reply": "2024-12-05T21:20:58.071647Z"
    }
   },
   "outputs": [],
   "source": [
    "graphSizeTestingUtil = TestingUtil(GraphSizeCalculator.graph_size)"
   ]
  },
  {
   "cell_type": "markdown",
   "metadata": {},
   "source": [
    "#### Testing different inputs"
   ]
  },
  {
   "cell_type": "code",
   "execution_count": 5,
   "metadata": {
    "execution": {
     "iopub.execute_input": "2024-12-05T21:20:58.076892Z",
     "iopub.status.busy": "2024-12-05T21:20:58.076535Z",
     "iopub.status.idle": "2024-12-05T21:20:58.091076Z",
     "shell.execute_reply": "2024-12-05T21:20:58.090456Z"
    }
   },
   "outputs": [
    {
     "name": "stdout",
     "output_type": "stream",
     "text": [
      "Running test: Finding the Size of the Graph - 3x3 graph\n",
      "Test 'Finding the Size of the Graph - 3x3 graph' completed in 0.000006 seconds\n",
      "Result of test 'Finding the Size of the Graph - 3x3 graph': 2\n",
      "Running test: Finding the Size of the Graph - 10x10 graph\n",
      "Test 'Finding the Size of the Graph - 10x10 graph' completed in 0.000008 seconds\n",
      "Result of test 'Finding the Size of the Graph - 10x10 graph': 28\n",
      "Running test: Finding the Size of the Graph - 100x100 graph\n",
      "Test 'Finding the Size of the Graph - 100x100 graph' completed in 0.000151 seconds\n",
      "Result of test 'Finding the Size of the Graph - 100x100 graph': 4895\n"
     ]
    },
    {
     "data": {
      "text/plain": [
       "(4895, 0.00015137500304263085)"
      ]
     },
     "execution_count": 5,
     "metadata": {},
     "output_type": "execute_result"
    }
   ],
   "source": [
    "graphSizeTestingUtil.run_test((graph_3x3_parsed['adjacency_matrix'],graph_3x3_parsed['is_directed']), \"Finding the Size of the Graph - 3x3 graph\")\n",
    "graphSizeTestingUtil.run_test((graph_10x10_parsed['adjacency_matrix'],graph_10x10_parsed['is_directed']), \"Finding the Size of the Graph - 10x10 graph\")\n",
    "graphSizeTestingUtil.run_test((graph_100x100_parsed['adjacency_matrix'],graph_100x100_parsed['is_directed']), \"Finding the Size of the Graph - 100x100 graph\")"
   ]
  },
  {
   "cell_type": "markdown",
   "metadata": {},
   "source": [
    "## 3.2 Finding the Distance Between Two Graphs"
   ]
  },
  {
   "cell_type": "markdown",
   "metadata": {},
   "source": [
    "#### Data preparation"
   ]
  },
  {
   "cell_type": "code",
   "execution_count": 6,
   "metadata": {
    "execution": {
     "iopub.execute_input": "2024-12-05T21:20:58.109347Z",
     "iopub.status.busy": "2024-12-05T21:20:58.109047Z",
     "iopub.status.idle": "2024-12-05T21:20:58.128993Z",
     "shell.execute_reply": "2024-12-05T21:20:58.127129Z"
    }
   },
   "outputs": [],
   "source": [
    "is_a_3x3_directed, graph_a_3x3 = inputGeneratorUtil.generate_random_graph(3,False)\n",
    "graph_a_3x3_parsed = inputParserUtil.parse_single_graph(graph_a_3x3)\n",
    "is_b_3x3_directed, graph_b_3x3 = inputGeneratorUtil.generate_random_graph(3,False)\n",
    "graph_b_3x3_parsed = inputParserUtil.parse_single_graph(graph_b_3x3)\n",
    "\n",
    "is_a_10x10_directed, graph_a_10x10 = inputGeneratorUtil.generate_random_graph(10,False)\n",
    "graph_a_10x10_parsed = inputParserUtil.parse_single_graph(graph_a_10x10)\n",
    "is_b_10x10_directed, graph_b_10x10 = inputGeneratorUtil.generate_random_graph(10,False)\n",
    "graph_b_10x10_parsed = inputParserUtil.parse_single_graph(graph_b_10x10)\n",
    "\n",
    "is_a_100x100_directed, graph_a_100x100 = inputGeneratorUtil.generate_random_graph(100,False)\n",
    "graph_a_100x100_parsed = inputParserUtil.parse_single_graph(graph_a_100x100)\n",
    "is_b_100x100_directed, graph_b_100x100= inputGeneratorUtil.generate_random_graph(100,False)\n",
    "graph_b_100x100_parsed = inputParserUtil.parse_single_graph(graph_b_100x100)"
   ]
  },
  {
   "cell_type": "markdown",
   "metadata": {},
   "source": [
    "#### Testing utils preparation"
   ]
  },
  {
   "cell_type": "code",
   "execution_count": 7,
   "metadata": {
    "execution": {
     "iopub.execute_input": "2024-12-05T21:20:58.135200Z",
     "iopub.status.busy": "2024-12-05T21:20:58.134925Z",
     "iopub.status.idle": "2024-12-05T21:20:58.139438Z",
     "shell.execute_reply": "2024-12-05T21:20:58.138759Z"
    }
   },
   "outputs": [],
   "source": [
    "graphDistanceCalculator = GraphDistanceCalculator(is_directed=False)\n",
    "graphDistanceTestingUtil = TestingUtil(graphDistanceCalculator.calculate_distance)"
   ]
  },
  {
   "cell_type": "markdown",
   "metadata": {},
   "source": [
    "#### Testing different inputs"
   ]
  },
  {
   "cell_type": "code",
   "execution_count": 8,
   "metadata": {
    "execution": {
     "iopub.execute_input": "2024-12-05T21:20:58.143568Z",
     "iopub.status.busy": "2024-12-05T21:20:58.143325Z",
     "iopub.status.idle": "2024-12-05T21:20:58.156784Z",
     "shell.execute_reply": "2024-12-05T21:20:58.154816Z"
    }
   },
   "outputs": [
    {
     "name": "stdout",
     "output_type": "stream",
     "text": [
      "Running test: Finding the Distance Between Two Graphs - 3x3 graph\n",
      "Test 'Finding the Distance Between Two Graphs - 3x3 graph' completed in 0.000010 seconds\n",
      "Result of test 'Finding the Distance Between Two Graphs - 3x3 graph': 3\n",
      "Running test: Finding the Distance Between Two Graphs - 10x10 graph\n",
      "Test 'Finding the Distance Between Two Graphs - 10x10 graph' completed in 0.000016 seconds\n",
      "Result of test 'Finding the Distance Between Two Graphs - 10x10 graph': 20\n",
      "Running test: Finding the Distance Between Two Graphs - 100x100 graph\n",
      "Test 'Finding the Distance Between Two Graphs - 100x100 graph' completed in 0.001023 seconds\n",
      "Result of test 'Finding the Distance Between Two Graphs - 100x100 graph': 2440\n"
     ]
    },
    {
     "data": {
      "text/plain": [
       "(2440, 0.001022750002448447)"
      ]
     },
     "execution_count": 8,
     "metadata": {},
     "output_type": "execute_result"
    }
   ],
   "source": [
    "graphDistanceTestingUtil.run_test((graph_a_3x3_parsed['adjacency_matrix'],graph_b_3x3_parsed['adjacency_matrix']), \"Finding the Distance Between Two Graphs - 3x3 graph\")\n",
    "graphDistanceTestingUtil.run_test((graph_a_10x10_parsed['adjacency_matrix'],graph_b_10x10_parsed['adjacency_matrix']), \"Finding the Distance Between Two Graphs - 10x10 graph\")\n",
    "graphDistanceTestingUtil.run_test((graph_a_100x100_parsed['adjacency_matrix'],graph_b_100x100_parsed['adjacency_matrix']), \"Finding the Distance Between Two Graphs - 100x100 graph\")\n"
   ]
  },
  {
   "cell_type": "markdown",
   "metadata": {},
   "source": [
    "## 3.3 Finding the Max Cycle in the Graph"
   ]
  },
  {
   "cell_type": "markdown",
   "metadata": {},
   "source": [
    "#### Data preparation"
   ]
  },
  {
   "cell_type": "code",
   "execution_count": 9,
   "metadata": {
    "execution": {
     "iopub.execute_input": "2024-12-05T21:20:58.161510Z",
     "iopub.status.busy": "2024-12-05T21:20:58.161276Z",
     "iopub.status.idle": "2024-12-05T21:20:58.177104Z",
     "shell.execute_reply": "2024-12-05T21:20:58.176833Z"
    }
   },
   "outputs": [],
   "source": [
    "is_3x3_directed, graph_3x3 = inputGeneratorUtil.generate_random_graph(3)\n",
    "graph_3x3_parsed = inputParserUtil.parse_single_graph(graph_3x3)\n",
    "\n",
    "is_7x7_directed, graph_7x7 = inputGeneratorUtil.generate_random_graph(7)\n",
    "graph_7x7_parsed = inputParserUtil.parse_single_graph(graph_7x7)\n",
    "\n",
    "is_10x10_directed, graph_10x10 = inputGeneratorUtil.generate_random_graph(10)\n",
    "graph_10x10_parsed = inputParserUtil.parse_single_graph(graph_10x10)\n",
    "\n",
    "is_20x20_directed, graph_20x20 = inputGeneratorUtil.generate_random_graph(20) #approximation only\n",
    "graph_20x20_parsed = inputParserUtil.parse_single_graph(graph_20x20)\n",
    "\n",
    "is_100x100_directed, graph_100x100 = inputGeneratorUtil.generate_random_graph(100) #approximation only\n",
    "graph_100x100_parsed = inputParserUtil.parse_single_graph(graph_100x100)\n"
   ]
  },
  {
   "cell_type": "markdown",
   "metadata": {},
   "source": [
    "#### Testing utils preparation"
   ]
  },
  {
   "cell_type": "code",
   "execution_count": 10,
   "metadata": {
    "execution": {
     "iopub.execute_input": "2024-12-05T21:20:58.178607Z",
     "iopub.status.busy": "2024-12-05T21:20:58.178519Z",
     "iopub.status.idle": "2024-12-05T21:20:58.180029Z",
     "shell.execute_reply": "2024-12-05T21:20:58.179808Z"
    }
   },
   "outputs": [],
   "source": [
    "allCyclesTestingUtil = TestingUtil(find_all_cycles)\n",
    "approxCyclesTestingUtil = TestingUtil(approximate_max_cycles)"
   ]
  },
  {
   "cell_type": "markdown",
   "metadata": {},
   "source": [
    "### 3.3.1 Finding the Max Cycle in the Graph - Exact Algorithm"
   ]
  },
  {
   "cell_type": "markdown",
   "metadata": {},
   "source": [
    "#### Testing different inputs"
   ]
  },
  {
   "cell_type": "code",
   "execution_count": 11,
   "metadata": {
    "execution": {
     "iopub.execute_input": "2024-12-05T21:20:58.181393Z",
     "iopub.status.busy": "2024-12-05T21:20:58.181326Z",
     "iopub.status.idle": "2024-12-05T21:20:59.207655Z",
     "shell.execute_reply": "2024-12-05T21:20:59.207395Z"
    }
   },
   "outputs": [
    {
     "name": "stdout",
     "output_type": "stream",
     "text": [
      "Running test: Finding the Max Cycle in the Graph - Exact Algorithm - 3x3 graph\n",
      "Test 'Finding the Max Cycle in the Graph - Exact Algorithm - 3x3 graph' completed in 0.000010 seconds\n",
      "Result of test 'Finding the Max Cycle in the Graph - Exact Algorithm - 3x3 graph': {'max_cycle_length': 0, 'num_max_cycles': 0}\n",
      "Running test: Finding the Max Cycle in the Graph - Exact Algorithm - 7x7 graph\n",
      "Test 'Finding the Max Cycle in the Graph - Exact Algorithm - 7x7 graph' completed in 0.000814 seconds\n",
      "Result of test 'Finding the Max Cycle in the Graph - Exact Algorithm - 7x7 graph': {'max_cycle_length': 7, 'num_max_cycles': 10}\n",
      "Running test: Finding the Max Cycle in the Graph - Exact Algorithm - 10x10 graph\n",
      "Test 'Finding the Max Cycle in the Graph - Exact Algorithm - 10x10 graph' completed in 1.022865 seconds\n",
      "Result of test 'Finding the Max Cycle in the Graph - Exact Algorithm - 10x10 graph': {'max_cycle_length': 10, 'num_max_cycles': 509}\n"
     ]
    },
    {
     "data": {
      "text/plain": [
       "({'max_cycle_length': 10, 'num_max_cycles': 509}, 1.0228648750053253)"
      ]
     },
     "execution_count": 11,
     "metadata": {},
     "output_type": "execute_result"
    }
   ],
   "source": [
    "allCyclesTestingUtil.run_test({\"adjacency_matrix\":graph_3x3_parsed['adjacency_matrix'],\"is_directed\":graph_3x3_parsed['is_directed']}, \"Finding the Max Cycle in the Graph - Exact Algorithm - 3x3 graph\")\n",
    "allCyclesTestingUtil.run_test({\"adjacency_matrix\":graph_7x7_parsed['adjacency_matrix'],\"is_directed\":graph_7x7_parsed['is_directed']}, \"Finding the Max Cycle in the Graph - Exact Algorithm - 7x7 graph\")\n",
    "allCyclesTestingUtil.run_test({\"adjacency_matrix\":graph_10x10_parsed['adjacency_matrix'],\"is_directed\":graph_10x10_parsed['is_directed']}, \"Finding the Max Cycle in the Graph - Exact Algorithm - 10x10 graph\")"
   ]
  },
  {
   "cell_type": "markdown",
   "metadata": {},
   "source": [
    "### 3.3.2 Finding the Max Cycle in the Graph - Polynomial Time Approximation"
   ]
  },
  {
   "cell_type": "markdown",
   "metadata": {},
   "source": [
    "#### Testing different inputs - 1000 iterations"
   ]
  },
  {
   "cell_type": "code",
   "execution_count": 12,
   "metadata": {
    "execution": {
     "iopub.execute_input": "2024-12-05T21:20:59.209001Z",
     "iopub.status.busy": "2024-12-05T21:20:59.208912Z",
     "iopub.status.idle": "2024-12-05T21:20:59.245385Z",
     "shell.execute_reply": "2024-12-05T21:20:59.245151Z"
    }
   },
   "outputs": [
    {
     "name": "stdout",
     "output_type": "stream",
     "text": [
      "Running test: Finding the Max Cycle in the Graph - Polynomial Time Approximation - 3x3 graph\n",
      "Test 'Finding the Max Cycle in the Graph - Polynomial Time Approximation - 3x3 graph' completed in 0.001633 seconds\n",
      "Result of test 'Finding the Max Cycle in the Graph - Polynomial Time Approximation - 3x3 graph': {'max_cycles_length_approx': 3, 'num_max_cycles_approx': 1}\n",
      "Running test: Finding the Max Cycle in the Graph - Polynomial Time Approximation - 7x7 graph\n",
      "Test 'Finding the Max Cycle in the Graph - Polynomial Time Approximation - 7x7 graph' completed in 0.005135 seconds\n",
      "Result of test 'Finding the Max Cycle in the Graph - Polynomial Time Approximation - 7x7 graph': {'max_cycles_length_approx': 7, 'num_max_cycles_approx': 53}\n",
      "Running test: Finding the Max Cycle in the Graph - Polynomial Time Approximation - 10x10 graph\n",
      "Test 'Finding the Max Cycle in the Graph - Polynomial Time Approximation - 10x10 graph' completed in 0.008396 seconds\n",
      "Result of test 'Finding the Max Cycle in the Graph - Polynomial Time Approximation - 10x10 graph': {'max_cycles_length_approx': 10, 'num_max_cycles_approx': 352}\n",
      "Running test: Finding the Max Cycle in the Graph - Polynomial Time Approximation - 20x20 graph\n",
      "Test 'Finding the Max Cycle in the Graph - Polynomial Time Approximation - 20x20 graph' completed in 0.008245 seconds\n",
      "Result of test 'Finding the Max Cycle in the Graph - Polynomial Time Approximation - 20x20 graph': {'max_cycles_length_approx': 10, 'num_max_cycles_approx': 346}\n",
      "Running test: Finding the Max Cycle in the Graph - Polynomial Time Approximation - 100x100 graph\n",
      "Test 'Finding the Max Cycle in the Graph - Polynomial Time Approximation - 100x100 graph' completed in 0.010119 seconds\n",
      "Result of test 'Finding the Max Cycle in the Graph - Polynomial Time Approximation - 100x100 graph': {'max_cycles_length_approx': 10, 'num_max_cycles_approx': 335}\n"
     ]
    },
    {
     "data": {
      "text/plain": [
       "({'max_cycles_length_approx': 10, 'num_max_cycles_approx': 335},\n",
       " 0.010118833000888117)"
      ]
     },
     "execution_count": 12,
     "metadata": {},
     "output_type": "execute_result"
    }
   ],
   "source": [
    "approxCyclesTestingUtil.run_test({\"adjacency_matrix\":graph_3x3_parsed['adjacency_matrix'],\"is_directed\":graph_3x3_parsed['is_directed'],\"iterations\":1000}, \"Finding the Max Cycle in the Graph - Polynomial Time Approximation - 3x3 graph\")\n",
    "approxCyclesTestingUtil.run_test({\"adjacency_matrix\":graph_7x7_parsed['adjacency_matrix'],\"is_directed\":graph_7x7_parsed['is_directed'],\"iterations\":1000}, \"Finding the Max Cycle in the Graph - Polynomial Time Approximation - 7x7 graph\")\n",
    "approxCyclesTestingUtil.run_test({\"adjacency_matrix\":graph_10x10_parsed['adjacency_matrix'],\"is_directed\":graph_10x10_parsed['is_directed'],\"iterations\":1000}, \"Finding the Max Cycle in the Graph - Polynomial Time Approximation - 10x10 graph\")\n",
    "approxCyclesTestingUtil.run_test({\"adjacency_matrix\":graph_10x10_parsed['adjacency_matrix'],\"is_directed\":graph_20x20_parsed['is_directed'],\"iterations\":1000}, \"Finding the Max Cycle in the Graph - Polynomial Time Approximation - 20x20 graph\")\n",
    "approxCyclesTestingUtil.run_test({\"adjacency_matrix\":graph_10x10_parsed['adjacency_matrix'],\"is_directed\":graph_100x100_parsed['is_directed'],\"iterations\":1000}, \"Finding the Max Cycle in the Graph - Polynomial Time Approximation - 100x100 graph\")"
   ]
  },
  {
   "cell_type": "markdown",
   "metadata": {},
   "source": [
    "#### Testing different inputs - 5000 iterations"
   ]
  },
  {
   "cell_type": "code",
   "execution_count": 13,
   "metadata": {
    "execution": {
     "iopub.execute_input": "2024-12-05T21:20:59.246650Z",
     "iopub.status.busy": "2024-12-05T21:20:59.246585Z",
     "iopub.status.idle": "2024-12-05T21:20:59.415105Z",
     "shell.execute_reply": "2024-12-05T21:20:59.414890Z"
    }
   },
   "outputs": [
    {
     "name": "stdout",
     "output_type": "stream",
     "text": [
      "Running test: Finding the Max Cycle in the Graph - Polynomial Time Approximation - 3x3 graph\n",
      "Test 'Finding the Max Cycle in the Graph - Polynomial Time Approximation - 3x3 graph' completed in 0.008302 seconds\n",
      "Result of test 'Finding the Max Cycle in the Graph - Polynomial Time Approximation - 3x3 graph': {'max_cycles_length_approx': 3, 'num_max_cycles_approx': 1}\n",
      "Running test: Finding the Max Cycle in the Graph - Polynomial Time Approximation - 7x7 graph\n",
      "Test 'Finding the Max Cycle in the Graph - Polynomial Time Approximation - 7x7 graph' completed in 0.025533 seconds\n",
      "Result of test 'Finding the Max Cycle in the Graph - Polynomial Time Approximation - 7x7 graph': {'max_cycles_length_approx': 7, 'num_max_cycles_approx': 56}\n",
      "Running test: Finding the Max Cycle in the Graph - Polynomial Time Approximation - 10x10 graph\n",
      "Test 'Finding the Max Cycle in the Graph - Polynomial Time Approximation - 10x10 graph' completed in 0.041075 seconds\n",
      "Result of test 'Finding the Max Cycle in the Graph - Polynomial Time Approximation - 10x10 graph': {'max_cycles_length_approx': 10, 'num_max_cycles_approx': 1208}\n",
      "Running test: Finding the Max Cycle in the Graph - Polynomial Time Approximation - 20x20 graph\n",
      "Test 'Finding the Max Cycle in the Graph - Polynomial Time Approximation - 20x20 graph' completed in 0.041021 seconds\n",
      "Result of test 'Finding the Max Cycle in the Graph - Polynomial Time Approximation - 20x20 graph': {'max_cycles_length_approx': 10, 'num_max_cycles_approx': 1224}\n",
      "Running test: Finding the Max Cycle in the Graph - Polynomial Time Approximation - 100x100 graph\n",
      "Test 'Finding the Max Cycle in the Graph - Polynomial Time Approximation - 100x100 graph' completed in 0.049545 seconds\n",
      "Result of test 'Finding the Max Cycle in the Graph - Polynomial Time Approximation - 100x100 graph': {'max_cycles_length_approx': 10, 'num_max_cycles_approx': 1218}\n"
     ]
    },
    {
     "data": {
      "text/plain": [
       "({'max_cycles_length_approx': 10, 'num_max_cycles_approx': 1218},\n",
       " 0.049545166999450885)"
      ]
     },
     "execution_count": 13,
     "metadata": {},
     "output_type": "execute_result"
    }
   ],
   "source": [
    "approxCyclesTestingUtil.run_test({\"adjacency_matrix\":graph_3x3_parsed['adjacency_matrix'],\"is_directed\":graph_3x3_parsed['is_directed'],\"iterations\":5000}, \"Finding the Max Cycle in the Graph - Polynomial Time Approximation - 3x3 graph\")\n",
    "approxCyclesTestingUtil.run_test({\"adjacency_matrix\":graph_7x7_parsed['adjacency_matrix'],\"is_directed\":graph_7x7_parsed['is_directed'],\"iterations\":5000}, \"Finding the Max Cycle in the Graph - Polynomial Time Approximation - 7x7 graph\")\n",
    "approxCyclesTestingUtil.run_test({\"adjacency_matrix\":graph_10x10_parsed['adjacency_matrix'],\"is_directed\":graph_10x10_parsed['is_directed'],\"iterations\":5000}, \"Finding the Max Cycle in the Graph - Polynomial Time Approximation - 10x10 graph\")\n",
    "approxCyclesTestingUtil.run_test({\"adjacency_matrix\":graph_10x10_parsed['adjacency_matrix'],\"is_directed\":graph_20x20_parsed['is_directed'],\"iterations\":5000}, \"Finding the Max Cycle in the Graph - Polynomial Time Approximation - 20x20 graph\")\n",
    "approxCyclesTestingUtil.run_test({\"adjacency_matrix\":graph_10x10_parsed['adjacency_matrix'],\"is_directed\":graph_100x100_parsed['is_directed'],\"iterations\":5000}, \"Finding the Max Cycle in the Graph - Polynomial Time Approximation - 100x100 graph\")"
   ]
  },
  {
   "cell_type": "markdown",
   "metadata": {},
   "source": [
    "#### Testing different inputs - 10000 iterations"
   ]
  },
  {
   "cell_type": "code",
   "execution_count": 14,
   "metadata": {
    "execution": {
     "iopub.execute_input": "2024-12-05T21:20:59.416464Z",
     "iopub.status.busy": "2024-12-05T21:20:59.416391Z",
     "iopub.status.idle": "2024-12-05T21:20:59.752402Z",
     "shell.execute_reply": "2024-12-05T21:20:59.752201Z"
    }
   },
   "outputs": [
    {
     "name": "stdout",
     "output_type": "stream",
     "text": [
      "Running test: Finding the Max Cycle in the Graph - Polynomial Time Approximation - 3x3 graph\n",
      "Test 'Finding the Max Cycle in the Graph - Polynomial Time Approximation - 3x3 graph' completed in 0.016543 seconds\n",
      "Result of test 'Finding the Max Cycle in the Graph - Polynomial Time Approximation - 3x3 graph': {'max_cycles_length_approx': 3, 'num_max_cycles_approx': 1}\n",
      "Running test: Finding the Max Cycle in the Graph - Polynomial Time Approximation - 7x7 graph\n",
      "Test 'Finding the Max Cycle in the Graph - Polynomial Time Approximation - 7x7 graph' completed in 0.051421 seconds\n",
      "Result of test 'Finding the Max Cycle in the Graph - Polynomial Time Approximation - 7x7 graph': {'max_cycles_length_approx': 7, 'num_max_cycles_approx': 56}\n",
      "Running test: Finding the Max Cycle in the Graph - Polynomial Time Approximation - 10x10 graph\n",
      "Test 'Finding the Max Cycle in the Graph - Polynomial Time Approximation - 10x10 graph' completed in 0.082592 seconds\n",
      "Result of test 'Finding the Max Cycle in the Graph - Polynomial Time Approximation - 10x10 graph': {'max_cycles_length_approx': 10, 'num_max_cycles_approx': 1932}\n",
      "Running test: Finding the Max Cycle in the Graph - Polynomial Time Approximation - 20x20 graph\n",
      "Test 'Finding the Max Cycle in the Graph - Polynomial Time Approximation - 20x20 graph' completed in 0.082286 seconds\n",
      "Result of test 'Finding the Max Cycle in the Graph - Polynomial Time Approximation - 20x20 graph': {'max_cycles_length_approx': 10, 'num_max_cycles_approx': 1918}\n",
      "Running test: Finding the Max Cycle in the Graph - Polynomial Time Approximation - 100x100 graph\n",
      "Test 'Finding the Max Cycle in the Graph - Polynomial Time Approximation - 100x100 graph' completed in 0.099866 seconds\n",
      "Result of test 'Finding the Max Cycle in the Graph - Polynomial Time Approximation - 100x100 graph': {'max_cycles_length_approx': 10, 'num_max_cycles_approx': 1845}\n"
     ]
    },
    {
     "data": {
      "text/plain": [
       "({'max_cycles_length_approx': 10, 'num_max_cycles_approx': 1845},\n",
       " 0.0998664579965407)"
      ]
     },
     "execution_count": 14,
     "metadata": {},
     "output_type": "execute_result"
    }
   ],
   "source": [
    "approxCyclesTestingUtil.run_test({\"adjacency_matrix\":graph_3x3_parsed['adjacency_matrix'],\"is_directed\":graph_3x3_parsed['is_directed'],\"iterations\":10000}, \"Finding the Max Cycle in the Graph - Polynomial Time Approximation - 3x3 graph\")\n",
    "approxCyclesTestingUtil.run_test({\"adjacency_matrix\":graph_7x7_parsed['adjacency_matrix'],\"is_directed\":graph_7x7_parsed['is_directed'],\"iterations\":10000}, \"Finding the Max Cycle in the Graph - Polynomial Time Approximation - 7x7 graph\")\n",
    "approxCyclesTestingUtil.run_test({\"adjacency_matrix\":graph_10x10_parsed['adjacency_matrix'],\"is_directed\":graph_10x10_parsed['is_directed'],\"iterations\":10000}, \"Finding the Max Cycle in the Graph - Polynomial Time Approximation - 10x10 graph\")\n",
    "approxCyclesTestingUtil.run_test({\"adjacency_matrix\":graph_10x10_parsed['adjacency_matrix'],\"is_directed\":graph_20x20_parsed['is_directed'],\"iterations\":10000}, \"Finding the Max Cycle in the Graph - Polynomial Time Approximation - 20x20 graph\")\n",
    "approxCyclesTestingUtil.run_test({\"adjacency_matrix\":graph_10x10_parsed['adjacency_matrix'],\"is_directed\":graph_100x100_parsed['is_directed'],\"iterations\":10000}, \"Finding the Max Cycle in the Graph - Polynomial Time Approximation - 100x100 graph\")"
   ]
  },
  {
   "cell_type": "markdown",
   "metadata": {},
   "source": [
    "## 3.4 Finding the Minimum Extension to Achieve Hamiltonian Graph"
   ]
  },
  {
   "cell_type": "markdown",
   "metadata": {},
   "source": [
    "#### Data preparation"
   ]
  },
  {
   "cell_type": "code",
   "execution_count": 15,
   "metadata": {
    "execution": {
     "iopub.execute_input": "2024-12-05T21:20:59.753742Z",
     "iopub.status.busy": "2024-12-05T21:20:59.753662Z",
     "iopub.status.idle": "2024-12-05T21:20:59.755607Z",
     "shell.execute_reply": "2024-12-05T21:20:59.755317Z"
    }
   },
   "outputs": [],
   "source": [
    "is_3x3_directed, graph_3x3 = inputGeneratorUtil.generate_random_graph(3)\n",
    "graph_3x3_parsed = inputParserUtil.parse_single_graph(graph_3x3)\n",
    "\n",
    "is_6x6_directed, graph_6x6 = inputGeneratorUtil.generate_random_graph(6)\n",
    "graph_6x6_parsed = inputParserUtil.parse_single_graph(graph_6x6)\n",
    "\n",
    "is_10x10_directed, graph_10x10 = inputGeneratorUtil.generate_random_graph(10)\n",
    "graph_10x10_parsed = inputParserUtil.parse_single_graph(graph_10x10)\n"
   ]
  },
  {
   "cell_type": "markdown",
   "metadata": {},
   "source": [
    "#### Testing utils preparation"
   ]
  },
  {
   "cell_type": "code",
   "execution_count": 16,
   "metadata": {
    "execution": {
     "iopub.execute_input": "2024-12-05T21:20:59.757057Z",
     "iopub.status.busy": "2024-12-05T21:20:59.756961Z",
     "iopub.status.idle": "2024-12-05T21:20:59.758472Z",
     "shell.execute_reply": "2024-12-05T21:20:59.758278Z"
    }
   },
   "outputs": [],
   "source": [
    "minNumExtensionExactTestingUtil = TestingUtil(min_num_hamiltonian_extension_exact)\n",
    "minNumExtensionAproxTestingUtil = TestingUtil(min_num_hamiltonian_extension_approx)"
   ]
  },
  {
   "cell_type": "code",
   "execution_count": 17,
   "metadata": {
    "execution": {
     "iopub.execute_input": "2024-12-05T21:20:59.759555Z",
     "iopub.status.busy": "2024-12-05T21:20:59.759497Z",
     "iopub.status.idle": "2024-12-05T21:20:59.761475Z",
     "shell.execute_reply": "2024-12-05T21:20:59.761267Z"
    }
   },
   "outputs": [
    {
     "data": {
      "text/plain": [
       "[[0, 0, 1, 0, 0, 0],\n",
       " [1, 0, 0, 1, 0, 0],\n",
       " [0, 1, 0, 1, 0, 0],\n",
       " [1, 1, 1, 0, 0, 0],\n",
       " [1, 0, 1, 1, 0, 1],\n",
       " [1, 0, 1, 0, 1, 0]]"
      ]
     },
     "execution_count": 17,
     "metadata": {},
     "output_type": "execute_result"
    }
   ],
   "source": [
    "graph_6x6_parsed['adjacency_matrix']"
   ]
  },
  {
   "cell_type": "markdown",
   "metadata": {},
   "source": [
    "### 3.4.1 Finding the Minimum Extension to Achieve Hamiltonian Graph - Exact Algorithm"
   ]
  },
  {
   "cell_type": "markdown",
   "metadata": {},
   "source": [
    "#### Testing different inputs"
   ]
  },
  {
   "cell_type": "code",
   "execution_count": 18,
   "metadata": {
    "execution": {
     "iopub.execute_input": "2024-12-05T21:20:59.762640Z",
     "iopub.status.busy": "2024-12-05T21:20:59.762574Z",
     "iopub.status.idle": "2024-12-05T21:21:02.292201Z",
     "shell.execute_reply": "2024-12-05T21:21:02.291937Z"
    }
   },
   "outputs": [
    {
     "name": "stdout",
     "output_type": "stream",
     "text": [
      "Running test: Finding the Min Number of Hamiltonian Extension - Exact Algorithm - 3x3 graph\n",
      "Test 'Finding the Min Number of Hamiltonian Extension - Exact Algorithm - 3x3 graph' completed in 0.000014 seconds\n",
      "Result of test 'Finding the Min Number of Hamiltonian Extension - Exact Algorithm - 3x3 graph': 1\n",
      "Running test: Finding the Min Number of Hamiltonian Extension - Exact Algorithm - 6x6 graph\n",
      "Test 'Finding the Min Number of Hamiltonian Extension - Exact Algorithm - 6x6 graph' completed in 0.000518 seconds\n",
      "Result of test 'Finding the Min Number of Hamiltonian Extension - Exact Algorithm - 6x6 graph': 1\n",
      "Running test: Finding the Min Number of Hamiltonian Extension - Exact Algorithm - 10x10 graph\n",
      "Test 'Finding the Min Number of Hamiltonian Extension - Exact Algorithm - 10x10 graph' completed in 2.526324 seconds\n",
      "Result of test 'Finding the Min Number of Hamiltonian Extension - Exact Algorithm - 10x10 graph': 1\n"
     ]
    },
    {
     "data": {
      "text/plain": [
       "(1, 2.526323833997594)"
      ]
     },
     "execution_count": 18,
     "metadata": {},
     "output_type": "execute_result"
    }
   ],
   "source": [
    "minNumExtensionExactTestingUtil.run_test({\"adjacency_matrix\":graph_3x3_parsed['adjacency_matrix'],\"is_directed\":graph_3x3_parsed['is_directed']}, \"Finding the Min Number of Hamiltonian Extension - Exact Algorithm - 3x3 graph\")\n",
    "minNumExtensionExactTestingUtil.run_test({\"adjacency_matrix\":graph_6x6_parsed['adjacency_matrix'],\"is_directed\":graph_6x6_parsed['is_directed']}, \"Finding the Min Number of Hamiltonian Extension - Exact Algorithm - 6x6 graph\")\n",
    "minNumExtensionExactTestingUtil.run_test({\"adjacency_matrix\":graph_10x10_parsed['adjacency_matrix'],\"is_directed\":graph_10x10_parsed['is_directed']}, \"Finding the Min Number of Hamiltonian Extension - Exact Algorithm - 10x10 graph\")"
   ]
  },
  {
   "cell_type": "markdown",
   "metadata": {},
   "source": [
    "### 3.4.2 Finding the Minimum Extension to Achieve Hamiltonian Graph - Polynomial Time Approach"
   ]
  },
  {
   "cell_type": "markdown",
   "metadata": {},
   "source": [
    "#### Testing different inputs"
   ]
  },
  {
   "cell_type": "code",
   "execution_count": 19,
   "metadata": {
    "execution": {
     "iopub.execute_input": "2024-12-05T21:21:02.293731Z",
     "iopub.status.busy": "2024-12-05T21:21:02.293641Z",
     "iopub.status.idle": "2024-12-05T21:21:02.297206Z",
     "shell.execute_reply": "2024-12-05T21:21:02.296954Z"
    }
   },
   "outputs": [
    {
     "name": "stdout",
     "output_type": "stream",
     "text": [
      "Running test: Finding the Min Number of Hamiltonian Extension - Polynomial Time Approximation - 3x3 graph\n",
      "Test 'Finding the Min Number of Hamiltonian Extension - Polynomial Time Approximation - 3x3 graph' completed in 0.000032 seconds\n",
      "Result of test 'Finding the Min Number of Hamiltonian Extension - Polynomial Time Approximation - 3x3 graph': 1\n",
      "Running test: Finding the Min Number of Hamiltonian Extension - Polynomial Time Approximation - 6x6 graph\n",
      "Test 'Finding the Min Number of Hamiltonian Extension - Polynomial Time Approximation - 6x6 graph' completed in 0.000031 seconds\n",
      "Result of test 'Finding the Min Number of Hamiltonian Extension - Polynomial Time Approximation - 6x6 graph': 1\n",
      "Running test: Finding the Min Number of Hamiltonian Extension - Polynomial Time Approximation - 10x10 graph\n",
      "Test 'Finding the Min Number of Hamiltonian Extension - Polynomial Time Approximation - 10x10 graph' completed in 0.000955 seconds\n",
      "Result of test 'Finding the Min Number of Hamiltonian Extension - Polynomial Time Approximation - 10x10 graph': 2\n"
     ]
    },
    {
     "data": {
      "text/plain": [
       "(2, 0.0009552080009598285)"
      ]
     },
     "execution_count": 19,
     "metadata": {},
     "output_type": "execute_result"
    }
   ],
   "source": [
    "minNumExtensionAproxTestingUtil.run_test({\"adjacency_matrix\":graph_3x3_parsed['adjacency_matrix'],\"is_directed\":graph_3x3_parsed['is_directed'],\"iterations\":1000}, \"Finding the Min Number of Hamiltonian Extension - Polynomial Time Approximation - 3x3 graph\")\n",
    "minNumExtensionAproxTestingUtil.run_test({\"adjacency_matrix\":graph_6x6_parsed['adjacency_matrix'],\"is_directed\":graph_6x6_parsed['is_directed'],\"iterations\":1000}, \"Finding the Min Number of Hamiltonian Extension - Polynomial Time Approximation - 6x6 graph\")\n",
    "minNumExtensionAproxTestingUtil.run_test({\"adjacency_matrix\":graph_10x10_parsed['adjacency_matrix'],\"is_directed\":graph_10x10_parsed['is_directed'],\"iterations\":1000}, \"Finding the Min Number of Hamiltonian Extension - Polynomial Time Approximation - 10x10 graph\")"
   ]
  },
  {
   "cell_type": "markdown",
   "metadata": {},
   "source": [
    "## 3.5 Finding All Hamiltonian Cycles"
   ]
  },
  {
   "cell_type": "markdown",
   "metadata": {},
   "source": [
    "#### Data preparation"
   ]
  },
  {
   "cell_type": "code",
   "execution_count": 20,
   "metadata": {
    "execution": {
     "iopub.execute_input": "2024-12-05T21:21:02.298770Z",
     "iopub.status.busy": "2024-12-05T21:21:02.298701Z",
     "iopub.status.idle": "2024-12-05T21:21:02.300710Z",
     "shell.execute_reply": "2024-12-05T21:21:02.300468Z"
    }
   },
   "outputs": [],
   "source": [
    "is_3x3_directed, graph_3x3 = inputGeneratorUtil.generate_random_graph(3)\n",
    "graph_3x3_parsed = inputParserUtil.parse_single_graph(graph_3x3)\n",
    "\n",
    "is_6x6_directed, graph_6x6 = inputGeneratorUtil.generate_random_graph(6)\n",
    "graph_6x6_parsed = inputParserUtil.parse_single_graph(graph_6x6)\n",
    "\n",
    "is_10x10_directed, graph_10x10 = inputGeneratorUtil.generate_random_graph(10)\n",
    "graph_10x10_parsed = inputParserUtil.parse_single_graph(graph_10x10)\n",
    "\n",
    "is_15x15_directed, graph_15x15 = inputGeneratorUtil.generate_random_graph(15)\n",
    "graph_15x15_parsed = inputParserUtil.parse_single_graph(graph_15x15)"
   ]
  },
  {
   "cell_type": "markdown",
   "metadata": {},
   "source": [
    "#### Testing utils preparation"
   ]
  },
  {
   "cell_type": "code",
   "execution_count": 21,
   "metadata": {
    "execution": {
     "iopub.execute_input": "2024-12-05T21:21:02.301919Z",
     "iopub.status.busy": "2024-12-05T21:21:02.301851Z",
     "iopub.status.idle": "2024-12-05T21:21:02.303377Z",
     "shell.execute_reply": "2024-12-05T21:21:02.303180Z"
    }
   },
   "outputs": [],
   "source": [
    "# exact\n",
    "countHamiltinianCyclesBacktrackTestingUtil = TestingUtil(count_hamiltonian_cycles_backtrack)\n",
    "# polynomial approximation\n",
    "countHamiltinianCyclesRandomizedBiasedTestingUtil = TestingUtil(count_hamiltonian_cycles_randomized_biased)\n",
    "countHamiltinianCyclesGeneticTestingUtil = TestingUtil(count_hamiltonian_cycles_genetic)"
   ]
  },
  {
   "cell_type": "markdown",
   "metadata": {},
   "source": [
    "### 3.5.1 Finding All Hamiltonian Cycles - Exact Algorithm"
   ]
  },
  {
   "cell_type": "markdown",
   "metadata": {},
   "source": [
    "#### Testing different inputs"
   ]
  },
  {
   "cell_type": "code",
   "execution_count": 22,
   "metadata": {
    "execution": {
     "iopub.execute_input": "2024-12-05T21:21:02.304552Z",
     "iopub.status.busy": "2024-12-05T21:21:02.304469Z",
     "iopub.status.idle": "2024-12-05T21:21:02.352138Z",
     "shell.execute_reply": "2024-12-05T21:21:02.351940Z"
    }
   },
   "outputs": [
    {
     "name": "stdout",
     "output_type": "stream",
     "text": [
      "Running test: Finding All Hamiltonian Cycles - Exact Algorithm - 3x3 graph\n",
      "Test 'Finding All Hamiltonian Cycles - Exact Algorithm - 3x3 graph' completed in 0.000010 seconds\n",
      "Result of test 'Finding All Hamiltonian Cycles - Exact Algorithm - 3x3 graph': 0\n",
      "Running test: Finding All Hamiltonian Cycles - Exact Algorithm - 6x6 graph\n",
      "Test 'Finding All Hamiltonian Cycles - Exact Algorithm - 6x6 graph' completed in 0.000018 seconds\n",
      "Result of test 'Finding All Hamiltonian Cycles - Exact Algorithm - 6x6 graph': 0\n",
      "Running test: Finding All Hamiltonian Cycles - Exact Algorithm - 10x10 graph\n",
      "Test 'Finding All Hamiltonian Cycles - Exact Algorithm - 10x10 graph' completed in 0.045389 seconds\n",
      "Result of test 'Finding All Hamiltonian Cycles - Exact Algorithm - 10x10 graph': 468\n"
     ]
    },
    {
     "data": {
      "text/plain": [
       "(468, 0.04538891700212844)"
      ]
     },
     "execution_count": 22,
     "metadata": {},
     "output_type": "execute_result"
    }
   ],
   "source": [
    "countHamiltinianCyclesBacktrackTestingUtil.run_test({\"adjacency_matrix\":graph_3x3_parsed['adjacency_matrix'],\"is_directed\":graph_3x3_parsed['is_directed']}, \"Finding All Hamiltonian Cycles - Exact Algorithm - 3x3 graph\")\n",
    "countHamiltinianCyclesBacktrackTestingUtil.run_test({\"adjacency_matrix\":graph_6x6_parsed['adjacency_matrix'],\"is_directed\":graph_6x6_parsed['is_directed']}, \"Finding All Hamiltonian Cycles - Exact Algorithm - 6x6 graph\")\n",
    "countHamiltinianCyclesBacktrackTestingUtil.run_test({\"adjacency_matrix\":graph_10x10_parsed['adjacency_matrix'],\"is_directed\":graph_10x10_parsed['is_directed']}, \"Finding All Hamiltonian Cycles - Exact Algorithm - 10x10 graph\")"
   ]
  },
  {
   "cell_type": "markdown",
   "metadata": {},
   "source": [
    "### 3.5.2 Finding All Hamiltonian Cycles - Polynomial Time Approach"
   ]
  },
  {
   "cell_type": "markdown",
   "metadata": {},
   "source": [
    "#### Testing different inputs - randomized biased testing"
   ]
  },
  {
   "cell_type": "code",
   "execution_count": 23,
   "metadata": {
    "execution": {
     "iopub.execute_input": "2024-12-05T21:21:02.353510Z",
     "iopub.status.busy": "2024-12-05T21:21:02.353448Z",
     "iopub.status.idle": "2024-12-05T21:21:02.417118Z",
     "shell.execute_reply": "2024-12-05T21:21:02.416791Z"
    }
   },
   "outputs": [
    {
     "name": "stdout",
     "output_type": "stream",
     "text": [
      "Running test: Finding All Hamiltonian Cycles - Polynomial Time Approximation - 3x3 graph\n",
      "Test 'Finding All Hamiltonian Cycles - Polynomial Time Approximation - 3x3 graph' completed in 0.001184 seconds\n",
      "Result of test 'Finding All Hamiltonian Cycles - Polynomial Time Approximation - 3x3 graph': 0\n",
      "Running test: Finding All Hamiltonian Cycles - Polynomial Time Approximation - 6x6 graph\n",
      "Test 'Finding All Hamiltonian Cycles - Polynomial Time Approximation - 6x6 graph' completed in 0.002049 seconds\n",
      "Result of test 'Finding All Hamiltonian Cycles - Polynomial Time Approximation - 6x6 graph': 0\n",
      "Running test: Finding All Hamiltonian Cycles - Polynomial Time Approximation - 10x10 graph\n",
      "Test 'Finding All Hamiltonian Cycles - Polynomial Time Approximation - 10x10 graph' completed in 0.003629 seconds\n",
      "Result of test 'Finding All Hamiltonian Cycles - Polynomial Time Approximation - 10x10 graph': 0\n",
      "Running test: Finding All Hamiltonian Cycles - Polynomial Time Approximation - 15x15 graph\n",
      "Test 'Finding All Hamiltonian Cycles - Polynomial Time Approximation - 15x15 graph' completed in 0.010263 seconds\n",
      "Result of test 'Finding All Hamiltonian Cycles - Polynomial Time Approximation - 15x15 graph': 0\n"
     ]
    },
    {
     "data": {
      "text/plain": [
       "(0, 0.01026320899836719)"
      ]
     },
     "execution_count": 23,
     "metadata": {},
     "output_type": "execute_result"
    }
   ],
   "source": [
    "countHamiltinianCyclesRandomizedBiasedTestingUtil.run_test({\"adjacency_matrix\":graph_3x3_parsed['adjacency_matrix'],\"is_directed\":graph_3x3_parsed['is_directed'],\"iterations\":1000}, \"Finding All Hamiltonian Cycles - Polynomial Time Approximation - 3x3 graph\")\n",
    "countHamiltinianCyclesRandomizedBiasedTestingUtil.run_test({\"adjacency_matrix\":graph_6x6_parsed['adjacency_matrix'],\"is_directed\":graph_6x6_parsed['is_directed'],\"iterations\":1000}, \"Finding All Hamiltonian Cycles - Polynomial Time Approximation - 6x6 graph\")\n",
    "countHamiltinianCyclesRandomizedBiasedTestingUtil.run_test({\"adjacency_matrix\":graph_10x10_parsed['adjacency_matrix'],\"is_directed\":graph_10x10_parsed['is_directed'],\"iterations\":1000}, \"Finding All Hamiltonian Cycles - Polynomial Time Approximation - 10x10 graph\")\n",
    "countHamiltinianCyclesRandomizedBiasedTestingUtil.run_test({\"adjacency_matrix\":graph_15x15_parsed['adjacency_matrix'],\"is_directed\":graph_15x15_parsed['is_directed'],\"iterations\":1000}, \"Finding All Hamiltonian Cycles - Polynomial Time Approximation - 15x15 graph\")\n",
    "\n"
   ]
  },
  {
   "cell_type": "markdown",
   "metadata": {},
   "source": [
    "#### Testing different inputs - randomized testing"
   ]
  },
  {
   "cell_type": "code",
   "execution_count": 24,
   "metadata": {
    "execution": {
     "iopub.execute_input": "2024-12-05T21:21:02.418847Z",
     "iopub.status.busy": "2024-12-05T21:21:02.418731Z",
     "iopub.status.idle": "2024-12-05T21:21:02.429450Z",
     "shell.execute_reply": "2024-12-05T21:21:02.428802Z"
    }
   },
   "outputs": [],
   "source": [
    "graph_10x10_parsed={\n",
    "  'number_of_vertices': 10,\n",
    " 'adjacency_matrix': [[0, 0, 1, 0, 1, 0, 0, 0, 1, 1],\n",
    "  [0, 0, 1, 0, 1, 0, 1, 1, 0, 0],\n",
    "  [1, 1, 0, 0, 0, 0, 1, 0, 1, 1],\n",
    "  [1, 1, 0, 0, 1, 0, 1, 1, 1, 1],\n",
    "  [0, 0, 1, 0, 0, 1, 0, 1, 1, 0],\n",
    "  [1, 1, 0, 0, 1, 0, 0, 1, 1, 0],\n",
    "  [1, 1, 1, 0, 0, 0, 0, 0, 0, 1],\n",
    "  [1, 1, 0, 1, 1, 1, 1, 0, 0, 1],\n",
    "  [0, 1, 1, 0, 0, 0, 1, 1, 0, 1],\n",
    "  [1, 1, 0, 1, 1, 1, 1, 1, 0, 0]],\n",
    " 'is_directed': True\n",
    " }\n",
    "graph_12x12_parsed={\n",
    " 'number_of_vertices': 12,\n",
    " 'adjacency_matrix': [[0, 0, 1, 0, 0, 0, 0, 1, 0, 1, 1, 0],\n",
    "  [0, 0, 1, 1, 0, 0, 1, 0, 0, 1, 0, 1],\n",
    "  [1, 1, 0, 1, 0, 0, 1, 0, 0, 1, 1, 1],\n",
    "  [0, 1, 1, 0, 0, 0, 0, 0, 1, 0, 0, 1],\n",
    "  [0, 0, 0, 0, 0, 1, 0, 0, 1, 0, 1, 0],\n",
    "  [0, 0, 0, 0, 1, 0, 0, 1, 0, 1, 1, 0],\n",
    "  [0, 1, 1, 0, 0, 0, 0, 0, 0, 1, 1, 0],\n",
    "  [1, 0, 0, 0, 0, 1, 0, 0, 1, 1, 0, 1],\n",
    "  [0, 0, 0, 1, 1, 0, 0, 1, 0, 0, 0, 1],\n",
    "  [1, 1, 1, 0, 0, 1, 1, 1, 0, 0, 0, 1],\n",
    "  [1, 0, 1, 0, 1, 1, 1, 0, 0, 0, 0, 0],\n",
    "  [0, 1, 1, 1, 0, 0, 0, 1, 1, 1, 0, 0]],\n",
    " 'is_directed': False\n",
    " }"
   ]
  },
  {
   "cell_type": "code",
   "execution_count": 25,
   "metadata": {
    "execution": {
     "iopub.execute_input": "2024-12-05T21:21:02.436533Z",
     "iopub.status.busy": "2024-12-05T21:21:02.436400Z",
     "iopub.status.idle": "2024-12-05T21:21:16.293212Z",
     "shell.execute_reply": "2024-12-05T21:21:16.292968Z"
    }
   },
   "outputs": [
    {
     "name": "stdout",
     "output_type": "stream",
     "text": [
      "Running test: Finding All Hamiltonian Cycles - Genetic Algorithm - 10x10 graph, population size 20, generations 10\n",
      "Test 'Finding All Hamiltonian Cycles - Genetic Algorithm - 10x10 graph, population size 20, generations 10' completed in 0.120736 seconds\n",
      "Result of test 'Finding All Hamiltonian Cycles - Genetic Algorithm - 10x10 graph, population size 20, generations 10': 120\n",
      "Running test: Finding All Hamiltonian Cycles - Genetic Algorithm - 12x12 graph, population size 20, generations 10\n",
      "Test 'Finding All Hamiltonian Cycles - Genetic Algorithm - 12x12 graph, population size 20, generations 10' completed in 13.733634 seconds\n",
      "Result of test 'Finding All Hamiltonian Cycles - Genetic Algorithm - 12x12 graph, population size 20, generations 10': 120\n"
     ]
    },
    {
     "data": {
      "text/plain": [
       "(120, 13.733633625000948)"
      ]
     },
     "execution_count": 25,
     "metadata": {},
     "output_type": "execute_result"
    }
   ],
   "source": [
    "countHamiltinianCyclesGeneticTestingUtil.run_test({\"adjacency_matrix\":graph_10x10_parsed['adjacency_matrix'],\"is_directed\":graph_10x10_parsed['is_directed'],\"population_size\":20, \"generations\":10}, \"Finding All Hamiltonian Cycles - Genetic Algorithm - 10x10 graph, population size 20, generations 10\")\n",
    "countHamiltinianCyclesGeneticTestingUtil.run_test({\"adjacency_matrix\":graph_12x12_parsed['adjacency_matrix'],\"is_directed\":graph_12x12_parsed['is_directed'],\"population_size\":20, \"generations\":10}, \"Finding All Hamiltonian Cycles - Genetic Algorithm - 12x12 graph, population size 20, generations 10\")"
   ]
  }
 ],
 "metadata": {
  "kernelspec": {
   "display_name": "env",
   "language": "python",
   "name": "python3"
  },
  "language_info": {
   "codemirror_mode": {
    "name": "ipython",
    "version": 3
   },
   "file_extension": ".py",
   "mimetype": "text/x-python",
   "name": "python",
   "nbconvert_exporter": "python",
   "pygments_lexer": "ipython3",
   "version": "3.11.5"
  }
 },
 "nbformat": 4,
 "nbformat_minor": 2
}

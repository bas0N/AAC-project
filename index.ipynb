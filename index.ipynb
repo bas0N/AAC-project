{
 "cells": [
  {
   "cell_type": "markdown",
   "metadata": {},
   "source": [
    "## AAC project"
   ]
  },
  {
   "cell_type": "code",
   "execution_count": 23,
   "metadata": {},
   "outputs": [],
   "source": [
    "from utils.input_generator_util import InputGeneratorUtil\n",
    "from utils.testing_util import TestingUtil\n",
    "from algorithms.graph_size import GraphSizeCalculator\n",
    "from utils.input_parser_util import InputParserUtil\n",
    "from algorithms.distance_between_graphs import GraphDistanceCalculator"
   ]
  },
  {
   "cell_type": "markdown",
   "metadata": {},
   "source": [
    "### General utils initialisation"
   ]
  },
  {
   "cell_type": "code",
   "execution_count": 24,
   "metadata": {},
   "outputs": [],
   "source": [
    "inputGeneratorUtil =  InputGeneratorUtil()\n",
    "inputParserUtil = InputParserUtil()"
   ]
  },
  {
   "cell_type": "markdown",
   "metadata": {},
   "source": [
    "### 3.1 Testing graph size function"
   ]
  },
  {
   "cell_type": "markdown",
   "metadata": {},
   "source": [
    "### 3.1.1 Data preparation"
   ]
  },
  {
   "cell_type": "code",
   "execution_count": 25,
   "metadata": {},
   "outputs": [],
   "source": [
    "is_3x3_directed, graph_3x3 = inputGeneratorUtil.generate_random_graph(3)\n",
    "graph_3x3_parsed = inputParserUtil.parse_single_graph(graph_3x3)\n",
    "\n",
    "is_10x10_directed, graph_10x10 = inputGeneratorUtil.generate_random_graph(10)\n",
    "graph_10x10_parsed = inputParserUtil.parse_single_graph(graph_10x10)\n",
    "\n",
    "\n",
    "is_100x100_directed, graph_100x100 = inputGeneratorUtil.generate_random_graph(100)\n",
    "graph_100x100_parsed = inputParserUtil.parse_single_graph(graph_100x100)"
   ]
  },
  {
   "cell_type": "markdown",
   "metadata": {},
   "source": [
    "### 3.1.2 Testing utils preparation"
   ]
  },
  {
   "cell_type": "code",
   "execution_count": 26,
   "metadata": {},
   "outputs": [],
   "source": [
    "graphSizeTestingUtil = TestingUtil(GraphSizeCalculator.graph_size)"
   ]
  },
  {
   "cell_type": "markdown",
   "metadata": {},
   "source": [
    "### 3.1.2 testing different inputs"
   ]
  },
  {
   "cell_type": "code",
   "execution_count": 27,
   "metadata": {},
   "outputs": [
    {
     "name": "stdout",
     "output_type": "stream",
     "text": [
      "Running test: 3x3 graph\n",
      "Test '3x3 graph' completed in 0.000006 seconds\n",
      "Result of test '3x3 graph': 2\n",
      "Running test: 10x10 graph\n",
      "Test '10x10 graph' completed in 0.000007 seconds\n",
      "Result of test '10x10 graph': 49\n",
      "Running test: 100x100 graph\n",
      "Test '100x100 graph' completed in 0.000179 seconds\n",
      "Result of test '100x100 graph': 5012\n"
     ]
    },
    {
     "data": {
      "text/plain": [
       "(5012, 0.0001794580020941794)"
      ]
     },
     "execution_count": 27,
     "metadata": {},
     "output_type": "execute_result"
    }
   ],
   "source": [
    "graphSizeTestingUtil.run_test((graph_3x3_parsed['adjacency_matrix'],graph_3x3_parsed['is_directed']), \"3x3 graph\")\n",
    "graphSizeTestingUtil.run_test((graph_10x10_parsed['adjacency_matrix'],graph_10x10_parsed['is_directed']), \"10x10 graph\")\n",
    "graphSizeTestingUtil.run_test((graph_100x100_parsed['adjacency_matrix'],graph_100x100_parsed['is_directed']), \"100x100 graph\")"
   ]
  },
  {
   "cell_type": "markdown",
   "metadata": {},
   "source": [
    "### 3.2 Testing distance between graphs function"
   ]
  },
  {
   "cell_type": "markdown",
   "metadata": {},
   "source": [
    "### 3.2.1 Data preparation"
   ]
  },
  {
   "cell_type": "code",
   "execution_count": 38,
   "metadata": {},
   "outputs": [],
   "source": [
    "is_a_3x3_directed, graph_a_3x3 = inputGeneratorUtil.generate_random_graph(3,False,32)\n",
    "graph_a_3x3_parsed = inputParserUtil.parse_single_graph(graph_a_3x3)\n",
    "is_b_3x3_directed, graph_b_3x3 = inputGeneratorUtil.generate_random_graph(3,False,23)\n",
    "graph_b_3x3_parsed = inputParserUtil.parse_single_graph(graph_b_3x3)\n",
    "\n",
    "is_a_10x10_directed, graph_a_10x10 = inputGeneratorUtil.generate_random_graph(10,False,44)\n",
    "graph_a_10x10_parsed = inputParserUtil.parse_single_graph(graph_a_10x10)\n",
    "is_b_10x10_directed, graph_b_10x10= inputGeneratorUtil.generate_random_graph(10,False,53)\n",
    "graph_b_10x10_parsed = inputParserUtil.parse_single_graph(graph_b_10x10)\n",
    "\n",
    "is_a_100x100_directed, graph_a_100x100 = inputGeneratorUtil.generate_random_graph(100,False,66)\n",
    "graph_a_100x100_parsed = inputParserUtil.parse_single_graph(graph_a_100x100)\n",
    "is_b_100x100_directed, graph_b_100x100= inputGeneratorUtil.generate_random_graph(100,False,91)\n",
    "graph_b_100x100_parsed = inputParserUtil.parse_single_graph(graph_b_100x100)"
   ]
  },
  {
   "cell_type": "markdown",
   "metadata": {},
   "source": [
    "### 3.2.2 Testing utils preparation"
   ]
  },
  {
   "cell_type": "code",
   "execution_count": 41,
   "metadata": {},
   "outputs": [],
   "source": [
    "graphDistanceCalculator = GraphDistanceCalculator(is_directed=False)\n",
    "graphDistanceTestingUtil = TestingUtil(graphDistanceCalculator.calculate_distance)"
   ]
  },
  {
   "cell_type": "markdown",
   "metadata": {},
   "source": [
    "### 3.2.2 Testing different inputs"
   ]
  },
  {
   "cell_type": "code",
   "execution_count": 42,
   "metadata": {},
   "outputs": [
    {
     "name": "stdout",
     "output_type": "stream",
     "text": [
      "Running test: 3x3 graph\n",
      "Test '3x3 graph' completed in 0.000010 seconds\n",
      "Result of test '3x3 graph': 1\n",
      "Running test: 10x10 graph\n",
      "Test '10x10 graph' completed in 0.000017 seconds\n",
      "Result of test '10x10 graph': 28\n",
      "Running test: 100x100 graph\n",
      "Test '100x100 graph' completed in 0.000965 seconds\n",
      "Result of test '100x100 graph': 2447\n"
     ]
    },
    {
     "data": {
      "text/plain": [
       "(2447, 0.0009647920087445527)"
      ]
     },
     "execution_count": 42,
     "metadata": {},
     "output_type": "execute_result"
    }
   ],
   "source": [
    "graphDistanceTestingUtil.run_test((graph_a_3x3_parsed['adjacency_matrix'],graph_b_3x3_parsed['adjacency_matrix']), \"3x3 graph\")\n",
    "graphDistanceTestingUtil.run_test((graph_a_10x10_parsed['adjacency_matrix'],graph_b_10x10_parsed['adjacency_matrix']), \"10x10 graph\")\n",
    "graphDistanceTestingUtil.run_test((graph_a_100x100_parsed['adjacency_matrix'],graph_b_100x100_parsed['adjacency_matrix']), \"100x100 graph\")"
   ]
  },
  {
   "cell_type": "markdown",
   "metadata": {},
   "source": [
    "### 3.3"
   ]
  },
  {
   "cell_type": "markdown",
   "metadata": {},
   "source": [
    "### 3.4"
   ]
  },
  {
   "cell_type": "code",
   "execution_count": null,
   "metadata": {},
   "outputs": [],
   "source": []
  }
 ],
 "metadata": {
  "kernelspec": {
   "display_name": "base",
   "language": "python",
   "name": "python3"
  },
  "language_info": {
   "codemirror_mode": {
    "name": "ipython",
    "version": 3
   },
   "file_extension": ".py",
   "mimetype": "text/x-python",
   "name": "python",
   "nbconvert_exporter": "python",
   "pygments_lexer": "ipython3",
   "version": "3.11.5"
  }
 },
 "nbformat": 4,
 "nbformat_minor": 2
}

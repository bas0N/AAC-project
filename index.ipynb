{
 "cells": [
  {
   "cell_type": "markdown",
   "metadata": {},
   "source": [
    "## AAC project"
   ]
  },
  {
   "cell_type": "code",
   "execution_count": 3,
   "metadata": {},
   "outputs": [],
   "source": [
    "from utils.input_generator_util import InputGeneratorUtil\n",
    "from utils.testing_util import TestingUtil\n",
    "from algorithms.graph_size import GraphSizeCalculator\n",
    "from utils.input_parser_util import InputParserUtil\n",
    "from algorithms.distance_between_graphs import GraphDistanceCalculator\n",
    "from algorithms.cycles import find_all_cycles, approximate_max_cycles, normalize_cycle\n"
   ]
  },
  {
   "cell_type": "markdown",
   "metadata": {},
   "source": [
    "### General utils initialisation"
   ]
  },
  {
   "cell_type": "code",
   "execution_count": 5,
   "metadata": {},
   "outputs": [],
   "source": [
    "inputGeneratorUtil =  InputGeneratorUtil()\n",
    "inputParserUtil = InputParserUtil()"
   ]
  },
  {
   "cell_type": "markdown",
   "metadata": {},
   "source": [
    "### 3.1 Testing graph size function"
   ]
  },
  {
   "cell_type": "markdown",
   "metadata": {},
   "source": [
    "### 3.1.1 Data preparation"
   ]
  },
  {
   "cell_type": "code",
   "execution_count": 30,
   "metadata": {},
   "outputs": [],
   "source": [
    "is_3x3_directed, graph_3x3 = inputGeneratorUtil.generate_random_graph(3)\n",
    "graph_3x3_parsed = inputParserUtil.parse_single_graph(graph_3x3)\n",
    "\n",
    "is_10x10_directed, graph_10x10 = inputGeneratorUtil.generate_random_graph(10)\n",
    "graph_10x10_parsed = inputParserUtil.parse_single_graph(graph_10x10)\n",
    "\n",
    "\n",
    "is_100x100_directed, graph_100x100 = inputGeneratorUtil.generate_random_graph(100)\n",
    "graph_100x100_parsed = inputParserUtil.parse_single_graph(graph_100x100)"
   ]
  },
  {
   "cell_type": "markdown",
   "metadata": {},
   "source": [
    "### 3.1.2 Testing utils preparation"
   ]
  },
  {
   "cell_type": "code",
   "execution_count": 31,
   "metadata": {},
   "outputs": [],
   "source": [
    "graphSizeTestingUtil = TestingUtil(GraphSizeCalculator.graph_size)"
   ]
  },
  {
   "cell_type": "markdown",
   "metadata": {},
   "source": [
    "### 3.1.2 testing different inputs"
   ]
  },
  {
   "cell_type": "code",
   "execution_count": 7,
   "metadata": {},
   "outputs": [
    {
     "name": "stdout",
     "output_type": "stream",
     "text": [
      "Running test: 3x3 graph\n",
      "Test '3x3 graph' completed in 0.000007 seconds\n",
      "Result of test '3x3 graph': 2\n",
      "Running test: 10x10 graph\n",
      "Test '10x10 graph' completed in 0.000004 seconds\n",
      "Result of test '10x10 graph': 36\n",
      "Running test: 100x100 graph\n",
      "Test '100x100 graph' completed in 0.000052 seconds\n",
      "Result of test '100x100 graph': 4956\n"
     ]
    },
    {
     "data": {
      "text/plain": [
       "(4956, 5.1700000767596066e-05)"
      ]
     },
     "execution_count": 7,
     "metadata": {},
     "output_type": "execute_result"
    }
   ],
   "source": [
    "graphSizeTestingUtil.run_test((graph_3x3_parsed['adjacency_matrix'],graph_3x3_parsed['is_directed']), \"3x3 graph\")\n",
    "graphSizeTestingUtil.run_test((graph_10x10_parsed['adjacency_matrix'],graph_10x10_parsed['is_directed']), \"10x10 graph\")\n",
    "graphSizeTestingUtil.run_test((graph_100x100_parsed['adjacency_matrix'],graph_100x100_parsed['is_directed']), \"100x100 graph\")"
   ]
  },
  {
   "cell_type": "markdown",
   "metadata": {},
   "source": [
    "### 3.2 Testing distance between graphs function"
   ]
  },
  {
   "cell_type": "markdown",
   "metadata": {},
   "source": [
    "### 3.2.1 Data preparation"
   ]
  },
  {
   "cell_type": "code",
   "execution_count": 39,
   "metadata": {},
   "outputs": [],
   "source": [
    "is_a_3x3_directed, graph_a_3x3 = inputGeneratorUtil.generate_random_graph(3,False,32)\n",
    "graph_a_3x3_parsed = inputParserUtil.parse_single_graph(graph_a_3x3)\n",
    "is_b_3x3_directed, graph_b_3x3 = inputGeneratorUtil.generate_random_graph(3,False,23)\n",
    "graph_b_3x3_parsed = inputParserUtil.parse_single_graph(graph_b_3x3)\n",
    "\n",
    "is_a_10x10_directed, graph_a_10x10 = inputGeneratorUtil.generate_random_graph(10,False,44)\n",
    "graph_a_10x10_parsed = inputParserUtil.parse_single_graph(graph_a_10x10)\n",
    "is_b_10x10_directed, graph_b_10x10= inputGeneratorUtil.generate_random_graph(10,False,53)\n",
    "graph_b_10x10_parsed = inputParserUtil.parse_single_graph(graph_b_10x10)\n",
    "\n",
    "is_a_100x100_directed, graph_a_100x100 = inputGeneratorUtil.generate_random_graph(100,False,66)\n",
    "graph_a_100x100_parsed = inputParserUtil.parse_single_graph(graph_a_100x100)\n",
    "is_b_100x100_directed, graph_b_100x100= inputGeneratorUtil.generate_random_graph(100,False,91)\n",
    "graph_b_100x100_parsed = inputParserUtil.parse_single_graph(graph_b_100x100)"
   ]
  },
  {
   "cell_type": "markdown",
   "metadata": {},
   "source": [
    "### 3.2.2 Testing utils preparation"
   ]
  },
  {
   "cell_type": "code",
   "execution_count": 34,
   "metadata": {},
   "outputs": [],
   "source": [
    "graphDistanceCalculator = GraphDistanceCalculator(is_directed=False)\n",
    "graphDistanceTestingUtil = TestingUtil(graphDistanceCalculator.calculate_distance)"
   ]
  },
  {
   "cell_type": "markdown",
   "metadata": {},
   "source": [
    "### 3.2.2 Testing different inputs"
   ]
  },
  {
   "cell_type": "code",
   "execution_count": 10,
   "metadata": {},
   "outputs": [
    {
     "name": "stdout",
     "output_type": "stream",
     "text": [
      "Running test: 3x3 graph\n",
      "Test '3x3 graph' completed in 0.000012 seconds\n",
      "Result of test '3x3 graph': 1\n",
      "Running test: 10x10 graph\n",
      "Test '10x10 graph' completed in 0.000019 seconds\n",
      "Result of test '10x10 graph': 28\n",
      "Running test: 100x100 graph\n",
      "Test '100x100 graph' completed in 0.001190 seconds\n",
      "Result of test '100x100 graph': 2447\n"
     ]
    },
    {
     "data": {
      "text/plain": [
       "(2447, 0.0011897000003955327)"
      ]
     },
     "execution_count": 10,
     "metadata": {},
     "output_type": "execute_result"
    }
   ],
   "source": [
    "graphDistanceTestingUtil.run_test((graph_a_3x3_parsed['adjacency_matrix'],graph_b_3x3_parsed['adjacency_matrix']), \"3x3 graph\")\n",
    "graphDistanceTestingUtil.run_test((graph_a_10x10_parsed['adjacency_matrix'],graph_b_10x10_parsed['adjacency_matrix']), \"10x10 graph\")\n",
    "graphDistanceTestingUtil.run_test((graph_a_100x100_parsed['adjacency_matrix'],graph_b_100x100_parsed['adjacency_matrix']), \"100x100 graph\")\n"
   ]
  },
  {
   "cell_type": "markdown",
   "metadata": {},
   "source": [
    "### 3.3 Find max cycles "
   ]
  },
  {
   "cell_type": "markdown",
   "metadata": {},
   "source": [
    "### 3.3.1 Data preparation"
   ]
  },
  {
   "cell_type": "code",
   "execution_count": 79,
   "metadata": {},
   "outputs": [],
   "source": [
    "is_3x3_directed, graph_3x3 = inputGeneratorUtil.generate_random_graph(3)\n",
    "graph_3x3_parsed = inputParserUtil.parse_single_graph(graph_3x3)\n",
    "\n",
    "is_7x7_directed, graph_7x7 = inputGeneratorUtil.generate_random_graph(7)\n",
    "graph_7x7_parsed = inputParserUtil.parse_single_graph(graph_7x7)\n",
    "\n",
    "is_10x10_directed, graph_10x10 = inputGeneratorUtil.generate_random_graph(10)\n",
    "graph_10x10_parsed = inputParserUtil.parse_single_graph(graph_10x10)\n",
    "\n",
    "is_20x20_directed, graph_20x20 = inputGeneratorUtil.generate_random_graph(20) #approximation only\n",
    "graph_20x20_parsed = inputParserUtil.parse_single_graph(graph_20x20)\n",
    "\n",
    "is_100x100_directed, graph_100x100 = inputGeneratorUtil.generate_random_graph(100) #approximation only\n",
    "graph_100x100_parsed = inputParserUtil.parse_single_graph(graph_100x100)\n"
   ]
  },
  {
   "cell_type": "markdown",
   "metadata": {},
   "source": [
    "### 3.3.2 Testing utils preparation"
   ]
  },
  {
   "cell_type": "code",
   "execution_count": 80,
   "metadata": {},
   "outputs": [],
   "source": [
    "allCyclesTestingUtil = TestingUtil(find_all_cycles)\n",
    "approxCyclesTestingUtil = TestingUtil(approximate_max_cycles)"
   ]
  },
  {
   "cell_type": "markdown",
   "metadata": {},
   "source": [
    "### 3.3.3 Testing finding cycles - bruteforce approach"
   ]
  },
  {
   "cell_type": "code",
   "execution_count": 81,
   "metadata": {},
   "outputs": [
    {
     "name": "stdout",
     "output_type": "stream",
     "text": [
      "Running test: 3x3 graph finding all cycles\n",
      "Test '3x3 graph finding all cycles' completed in 0.000057 seconds\n",
      "Result of test '3x3 graph finding all cycles': {'max_cycle_length': 3, 'num_max_cycles': 1}\n",
      "Running test: 7x7 graph finding all cycles\n",
      "Test '7x7 graph finding all cycles' completed in 0.002916 seconds\n",
      "Result of test '7x7 graph finding all cycles': {'max_cycle_length': 7, 'num_max_cycles': 2}\n",
      "Running test: 10x10 graph finding all cycles\n",
      "Test '10x10 graph finding all cycles' completed in 0.214926 seconds\n",
      "Result of test '10x10 graph finding all cycles': {'max_cycle_length': 10, 'num_max_cycles': 70}\n"
     ]
    },
    {
     "data": {
      "text/plain": [
       "({'max_cycle_length': 10, 'num_max_cycles': 70}, 0.21492589999979828)"
      ]
     },
     "execution_count": 81,
     "metadata": {},
     "output_type": "execute_result"
    }
   ],
   "source": [
    "allCyclesTestingUtil.run_test({\"adjacency_matrix\":graph_3x3_parsed['adjacency_matrix'],\"is_directed\":graph_3x3_parsed['is_directed']}, \"3x3 graph finding all cycles\")\n",
    "allCyclesTestingUtil.run_test({\"adjacency_matrix\":graph_7x7_parsed['adjacency_matrix'],\"is_directed\":graph_7x7_parsed['is_directed']}, \"7x7 graph finding all cycles\")\n",
    "allCyclesTestingUtil.run_test({\"adjacency_matrix\":graph_10x10_parsed['adjacency_matrix'],\"is_directed\":graph_10x10_parsed['is_directed']}, \"10x10 graph finding all cycles\")"
   ]
  },
  {
   "cell_type": "markdown",
   "metadata": {},
   "source": [
    "### 3.3.3 Testing finding cycles - approximate approach"
   ]
  },
  {
   "cell_type": "code",
   "execution_count": 82,
   "metadata": {},
   "outputs": [
    {
     "name": "stdout",
     "output_type": "stream",
     "text": [
      "Running test: 3x3 graph approx cycles\n",
      "Test '3x3 graph approx cycles' completed in 0.004935 seconds\n",
      "Result of test '3x3 graph approx cycles': {'max_cycles_length_approx': 3, 'num_max_cycles_approx': 1}\n",
      "Running test: 7x7 graph approx cycles\n",
      "Test '7x7 graph approx cycles' completed in 0.010176 seconds\n",
      "Result of test '7x7 graph approx cycles': {'max_cycles_length_approx': 7, 'num_max_cycles_approx': 27}\n",
      "Running test: 10x10 graph approx cycles\n",
      "Test '10x10 graph approx cycles' completed in 0.011277 seconds\n",
      "Result of test '10x10 graph approx cycles': {'max_cycles_length_approx': 10, 'num_max_cycles_approx': 106}\n"
     ]
    },
    {
     "data": {
      "text/plain": [
       "({'max_cycles_length_approx': 10, 'num_max_cycles_approx': 106},\n",
       " 0.01127739999901678)"
      ]
     },
     "execution_count": 82,
     "metadata": {},
     "output_type": "execute_result"
    }
   ],
   "source": [
    "approxCyclesTestingUtil.run_test({\"adjacency_matrix\":graph_3x3_parsed['adjacency_matrix'],\"is_directed\":graph_3x3_parsed['is_directed'],\"iterations\":1000}, \"3x3 graph approx cycles\")\n",
    "approxCyclesTestingUtil.run_test({\"adjacency_matrix\":graph_7x7_parsed['adjacency_matrix'],\"is_directed\":graph_7x7_parsed['is_directed'],\"iterations\":1000}, \"7x7 graph approx cycles\")\n",
    "approxCyclesTestingUtil.run_test({\"adjacency_matrix\":graph_10x10_parsed['adjacency_matrix'],\"is_directed\":graph_10x10_parsed['is_directed'],\"iterations\":1000}, \"10x10 graph approx cycles\")"
   ]
  },
  {
   "cell_type": "markdown",
   "metadata": {},
   "source": [
    "Time test\n"
   ]
  },
  {
   "cell_type": "code",
   "execution_count": 67,
   "metadata": {},
   "outputs": [
    {
     "name": "stdout",
     "output_type": "stream",
     "text": [
      "Running test: 20x20 graph approx cycles\n",
      "Test '20x20 graph approx cycles' completed in 0.041919 seconds\n",
      "Result of test '20x20 graph approx cycles': {'max_cycles_length_approx': 20, 'num_max_cycles_approx': 307}\n",
      "Running test: 100x100 graph approx cycles\n",
      "Test '100x100 graph approx cycles' completed in 0.632084 seconds\n",
      "Result of test '100x100 graph approx cycles': {'max_cycles_length_approx': 100, 'num_max_cycles_approx': 264}\n"
     ]
    },
    {
     "data": {
      "text/plain": [
       "({'max_cycles_length_approx': 100, 'num_max_cycles_approx': 264},\n",
       " 0.6320839999989403)"
      ]
     },
     "execution_count": 67,
     "metadata": {},
     "output_type": "execute_result"
    }
   ],
   "source": [
    "approxCyclesTestingUtil.run_test({\"adjacency_matrix\":graph_20x20_parsed['adjacency_matrix'],\"is_directed\":graph_20x20_parsed['is_directed'],\"iterations\":1000}, \"20x20 graph approx cycles\")\n",
    "approxCyclesTestingUtil.run_test({\"adjacency_matrix\":graph_100x100_parsed['adjacency_matrix'],\"is_directed\":graph_100x100_parsed['is_directed'],\"iterations\":1000}, \"100x100 graph approx cycles\")\n"
   ]
  },
  {
   "cell_type": "markdown",
   "metadata": {},
   "source": [
    "### 3.3.4 Testing finding hamiltonian cycles - polynomial time approach"
   ]
  },
  {
   "cell_type": "markdown",
   "metadata": {},
   "source": []
  }
 ],
 "metadata": {
  "kernelspec": {
   "display_name": "base",
   "language": "python",
   "name": "python3"
  },
  "language_info": {
   "codemirror_mode": {
    "name": "ipython",
    "version": 3
   },
   "file_extension": ".py",
   "mimetype": "text/x-python",
   "name": "python",
   "nbconvert_exporter": "python",
   "pygments_lexer": "ipython3",
   "version": "3.11.5"
  }
 },
 "nbformat": 4,
 "nbformat_minor": 2
}

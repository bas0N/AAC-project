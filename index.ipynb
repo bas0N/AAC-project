{
 "cells": [
  {
   "cell_type": "markdown",
   "metadata": {},
   "source": [
    "## AAC project"
   ]
  },
  {
   "cell_type": "code",
   "execution_count": null,
   "metadata": {},
   "outputs": [],
   "source": [
    "from utils.input_generator_util import InputGeneratorUtil\n",
    "from utils.testing_util import TestingUtil\n",
    "from algorithms.graph_size import GraphSizeCalculator\n",
    "from utils.input_parser_util import InputParserUtil\n",
    "from algorithms.distance_between_graphs import GraphDistanceCalculator\n",
    "from algorithms.cycles import find_all_cycles, approximate_max_cycles, normalize_cycle\n",
    "from algorithms.hamiltonian_cycles_min_extension import min_num_hamiltonian_extension_exact, min_num_hamiltonian_extension_approx\n",
    "from algorithms.hamiltonian_cycles_number import count_hamiltonian_cycles_backtrack,count_hamiltonian_cycles_randomized_biased,count_hamiltonian_cycles_genetic\n"
   ]
  },
  {
   "cell_type": "markdown",
   "metadata": {},
   "source": [
    "### General utils initialisation"
   ]
  },
  {
   "cell_type": "code",
   "execution_count": 41,
   "metadata": {},
   "outputs": [],
   "source": [
    "inputGeneratorUtil =  InputGeneratorUtil()\n",
    "inputParserUtil = InputParserUtil()"
   ]
  },
  {
   "cell_type": "markdown",
   "metadata": {},
   "source": [
    "## 3.1 Finding the Size of the Graph"
   ]
  },
  {
   "cell_type": "markdown",
   "metadata": {},
   "source": [
    "#### Data preparation"
   ]
  },
  {
   "cell_type": "code",
   "execution_count": 42,
   "metadata": {},
   "outputs": [],
   "source": [
    "is_3x3_directed, graph_3x3 = inputGeneratorUtil.generate_random_graph(3)\n",
    "graph_3x3_parsed = inputParserUtil.parse_single_graph(graph_3x3)\n",
    "\n",
    "is_10x10_directed, graph_10x10 = inputGeneratorUtil.generate_random_graph(10)\n",
    "graph_10x10_parsed = inputParserUtil.parse_single_graph(graph_10x10)\n",
    "\n",
    "\n",
    "is_100x100_directed, graph_100x100 = inputGeneratorUtil.generate_random_graph(100)\n",
    "graph_100x100_parsed = inputParserUtil.parse_single_graph(graph_100x100)"
   ]
  },
  {
   "cell_type": "markdown",
   "metadata": {},
   "source": [
    "#### Testing utils preparation"
   ]
  },
  {
   "cell_type": "code",
   "execution_count": 43,
   "metadata": {},
   "outputs": [],
   "source": [
    "graphSizeTestingUtil = TestingUtil(GraphSizeCalculator.graph_size)"
   ]
  },
  {
   "cell_type": "markdown",
   "metadata": {},
   "source": [
    "#### Testing different inputs"
   ]
  },
  {
   "cell_type": "code",
   "execution_count": 44,
   "metadata": {},
   "outputs": [
    {
     "name": "stdout",
     "output_type": "stream",
     "text": [
      "Running test: Finding the Size of the Graph - 3x3 graph\n",
      "Test 'Finding the Size of the Graph - 3x3 graph' completed in 0.000002 seconds\n",
      "Result of test 'Finding the Size of the Graph - 3x3 graph': 3\n",
      "Running test: Finding the Size of the Graph - 10x10 graph\n",
      "Test 'Finding the Size of the Graph - 10x10 graph' completed in 0.000004 seconds\n",
      "Result of test 'Finding the Size of the Graph - 10x10 graph': 24\n",
      "Running test: Finding the Size of the Graph - 100x100 graph\n",
      "Test 'Finding the Size of the Graph - 100x100 graph' completed in 0.000093 seconds\n",
      "Result of test 'Finding the Size of the Graph - 100x100 graph': 4962\n"
     ]
    },
    {
     "data": {
      "text/plain": [
       "(4962, 9.304199193138629e-05)"
      ]
     },
     "execution_count": 44,
     "metadata": {},
     "output_type": "execute_result"
    }
   ],
   "source": [
    "graphSizeTestingUtil.run_test((graph_3x3_parsed['adjacency_matrix'],graph_3x3_parsed['is_directed']), \"Finding the Size of the Graph - 3x3 graph\")\n",
    "graphSizeTestingUtil.run_test((graph_10x10_parsed['adjacency_matrix'],graph_10x10_parsed['is_directed']), \"Finding the Size of the Graph - 10x10 graph\")\n",
    "graphSizeTestingUtil.run_test((graph_100x100_parsed['adjacency_matrix'],graph_100x100_parsed['is_directed']), \"Finding the Size of the Graph - 100x100 graph\")"
   ]
  },
  {
   "cell_type": "markdown",
   "metadata": {},
   "source": [
    "## 3.2 Finding the Distance Between Two Graphs"
   ]
  },
  {
   "cell_type": "markdown",
   "metadata": {},
   "source": [
    "#### Data preparation"
   ]
  },
  {
   "cell_type": "code",
   "execution_count": 45,
   "metadata": {},
   "outputs": [],
   "source": [
    "is_a_3x3_directed, graph_a_3x3 = inputGeneratorUtil.generate_random_graph(3,False)\n",
    "graph_a_3x3_parsed = inputParserUtil.parse_single_graph(graph_a_3x3)\n",
    "is_b_3x3_directed, graph_b_3x3 = inputGeneratorUtil.generate_random_graph(3,False)\n",
    "graph_b_3x3_parsed = inputParserUtil.parse_single_graph(graph_b_3x3)\n",
    "\n",
    "is_a_10x10_directed, graph_a_10x10 = inputGeneratorUtil.generate_random_graph(10,False)\n",
    "graph_a_10x10_parsed = inputParserUtil.parse_single_graph(graph_a_10x10)\n",
    "is_b_10x10_directed, graph_b_10x10 = inputGeneratorUtil.generate_random_graph(10,False)\n",
    "graph_b_10x10_parsed = inputParserUtil.parse_single_graph(graph_b_10x10)\n",
    "\n",
    "is_a_100x100_directed, graph_a_100x100 = inputGeneratorUtil.generate_random_graph(100,False)\n",
    "graph_a_100x100_parsed = inputParserUtil.parse_single_graph(graph_a_100x100)\n",
    "is_b_100x100_directed, graph_b_100x100= inputGeneratorUtil.generate_random_graph(100,False)\n",
    "graph_b_100x100_parsed = inputParserUtil.parse_single_graph(graph_b_100x100)"
   ]
  },
  {
   "cell_type": "markdown",
   "metadata": {},
   "source": [
    "#### Testing utils preparation"
   ]
  },
  {
   "cell_type": "code",
   "execution_count": 46,
   "metadata": {},
   "outputs": [],
   "source": [
    "graphDistanceCalculator = GraphDistanceCalculator(is_directed=False)\n",
    "graphDistanceTestingUtil = TestingUtil(graphDistanceCalculator.calculate_distance)"
   ]
  },
  {
   "cell_type": "markdown",
   "metadata": {},
   "source": [
    "#### Testing different inputs"
   ]
  },
  {
   "cell_type": "code",
   "execution_count": 47,
   "metadata": {},
   "outputs": [
    {
     "name": "stdout",
     "output_type": "stream",
     "text": [
      "Running test: Finding the Distance Between Two Graphs - 3x3 graph\n",
      "Test 'Finding the Distance Between Two Graphs - 3x3 graph' completed in 0.000003 seconds\n",
      "Result of test 'Finding the Distance Between Two Graphs - 3x3 graph': 1\n",
      "Running test: Finding the Distance Between Two Graphs - 10x10 graph\n",
      "Test 'Finding the Distance Between Two Graphs - 10x10 graph' completed in 0.000009 seconds\n",
      "Result of test 'Finding the Distance Between Two Graphs - 10x10 graph': 25\n",
      "Running test: Finding the Distance Between Two Graphs - 100x100 graph\n",
      "Test 'Finding the Distance Between Two Graphs - 100x100 graph' completed in 0.000571 seconds\n",
      "Result of test 'Finding the Distance Between Two Graphs - 100x100 graph': 2433\n"
     ]
    },
    {
     "data": {
      "text/plain": [
       "(2433, 0.0005710839905077592)"
      ]
     },
     "execution_count": 47,
     "metadata": {},
     "output_type": "execute_result"
    }
   ],
   "source": [
    "graphDistanceTestingUtil.run_test((graph_a_3x3_parsed['adjacency_matrix'],graph_b_3x3_parsed['adjacency_matrix']), \"Finding the Distance Between Two Graphs - 3x3 graph\")\n",
    "graphDistanceTestingUtil.run_test((graph_a_10x10_parsed['adjacency_matrix'],graph_b_10x10_parsed['adjacency_matrix']), \"Finding the Distance Between Two Graphs - 10x10 graph\")\n",
    "graphDistanceTestingUtil.run_test((graph_a_100x100_parsed['adjacency_matrix'],graph_b_100x100_parsed['adjacency_matrix']), \"Finding the Distance Between Two Graphs - 100x100 graph\")\n"
   ]
  },
  {
   "cell_type": "markdown",
   "metadata": {},
   "source": [
    "## 3.3 Finding the Max Cycle in the Graph"
   ]
  },
  {
   "cell_type": "markdown",
   "metadata": {},
   "source": [
    "#### Data preparation"
   ]
  },
  {
   "cell_type": "code",
   "execution_count": 48,
   "metadata": {},
   "outputs": [],
   "source": [
    "is_3x3_directed, graph_3x3 = inputGeneratorUtil.generate_random_graph(3)\n",
    "graph_3x3_parsed = inputParserUtil.parse_single_graph(graph_3x3)\n",
    "\n",
    "is_7x7_directed, graph_7x7 = inputGeneratorUtil.generate_random_graph(7)\n",
    "graph_7x7_parsed = inputParserUtil.parse_single_graph(graph_7x7)\n",
    "\n",
    "is_10x10_directed, graph_10x10 = inputGeneratorUtil.generate_random_graph(10)\n",
    "graph_10x10_parsed = inputParserUtil.parse_single_graph(graph_10x10)\n",
    "\n",
    "is_20x20_directed, graph_20x20 = inputGeneratorUtil.generate_random_graph(20) #approximation only\n",
    "graph_20x20_parsed = inputParserUtil.parse_single_graph(graph_20x20)\n",
    "\n",
    "is_100x100_directed, graph_100x100 = inputGeneratorUtil.generate_random_graph(100) #approximation only\n",
    "graph_100x100_parsed = inputParserUtil.parse_single_graph(graph_100x100)\n"
   ]
  },
  {
   "cell_type": "markdown",
   "metadata": {},
   "source": [
    "#### Testing utils preparation"
   ]
  },
  {
   "cell_type": "code",
   "execution_count": 49,
   "metadata": {},
   "outputs": [],
   "source": [
    "allCyclesTestingUtil = TestingUtil(find_all_cycles)\n",
    "approxCyclesTestingUtil = TestingUtil(approximate_max_cycles)"
   ]
  },
  {
   "cell_type": "markdown",
   "metadata": {},
   "source": [
    "### 3.3.1 Finding the Max Cycle in the Graph - Exact Algorithm"
   ]
  },
  {
   "cell_type": "markdown",
   "metadata": {},
   "source": [
    "#### Testing different inputs"
   ]
  },
  {
   "cell_type": "code",
   "execution_count": 50,
   "metadata": {},
   "outputs": [
    {
     "name": "stdout",
     "output_type": "stream",
     "text": [
      "Running test: Finding the Max Cycle in the Graph - Exact Algorithm - 3x3 graph\n",
      "Test 'Finding the Max Cycle in the Graph - Exact Algorithm - 3x3 graph' completed in 0.000019 seconds\n",
      "Result of test 'Finding the Max Cycle in the Graph - Exact Algorithm - 3x3 graph': {'max_cycle_length': 0, 'num_max_cycles': 0}\n",
      "Running test: Finding the Max Cycle in the Graph - Exact Algorithm - 7x7 graph\n",
      "Test 'Finding the Max Cycle in the Graph - Exact Algorithm - 7x7 graph' completed in 0.003538 seconds\n",
      "Result of test 'Finding the Max Cycle in the Graph - Exact Algorithm - 7x7 graph': {'max_cycle_length': 7, 'num_max_cycles': 5}\n",
      "Running test: Finding the Max Cycle in the Graph - Exact Algorithm - 10x10 graph\n",
      "Test 'Finding the Max Cycle in the Graph - Exact Algorithm - 10x10 graph' completed in 0.092806 seconds\n",
      "Result of test 'Finding the Max Cycle in the Graph - Exact Algorithm - 10x10 graph': {'max_cycle_length': 10, 'num_max_cycles': 48}\n"
     ]
    },
    {
     "data": {
      "text/plain": [
       "({'max_cycle_length': 10, 'num_max_cycles': 48}, 0.09280637500341982)"
      ]
     },
     "execution_count": 50,
     "metadata": {},
     "output_type": "execute_result"
    }
   ],
   "source": [
    "allCyclesTestingUtil.run_test({\"adjacency_matrix\":graph_3x3_parsed['adjacency_matrix'],\"is_directed\":graph_3x3_parsed['is_directed']}, \"Finding the Max Cycle in the Graph - Exact Algorithm - 3x3 graph\")\n",
    "allCyclesTestingUtil.run_test({\"adjacency_matrix\":graph_7x7_parsed['adjacency_matrix'],\"is_directed\":graph_7x7_parsed['is_directed']}, \"Finding the Max Cycle in the Graph - Exact Algorithm - 7x7 graph\")\n",
    "allCyclesTestingUtil.run_test({\"adjacency_matrix\":graph_10x10_parsed['adjacency_matrix'],\"is_directed\":graph_10x10_parsed['is_directed']}, \"Finding the Max Cycle in the Graph - Exact Algorithm - 10x10 graph\")"
   ]
  },
  {
   "cell_type": "markdown",
   "metadata": {},
   "source": [
    "### 3.3.2 Finding the Max Cycle in the Graph - Polynomial Time Approximation"
   ]
  },
  {
   "cell_type": "markdown",
   "metadata": {},
   "source": [
    "#### Testing different inputs - 1000 iterations"
   ]
  },
  {
   "cell_type": "code",
   "execution_count": 51,
   "metadata": {},
   "outputs": [
    {
     "name": "stdout",
     "output_type": "stream",
     "text": [
      "Running test: Finding the Max Cycle in the Graph - Polynomial Time Approximation - 3x3 graph\n",
      "Test 'Finding the Max Cycle in the Graph - Polynomial Time Approximation - 3x3 graph' completed in 0.007042 seconds\n",
      "Result of test 'Finding the Max Cycle in the Graph - Polynomial Time Approximation - 3x3 graph': {'max_cycles_length_approx': 3, 'num_max_cycles_approx': 1}\n",
      "Running test: Finding the Max Cycle in the Graph - Polynomial Time Approximation - 7x7 graph\n",
      "Test 'Finding the Max Cycle in the Graph - Polynomial Time Approximation - 7x7 graph' completed in 0.015659 seconds\n",
      "Result of test 'Finding the Max Cycle in the Graph - Polynomial Time Approximation - 7x7 graph': {'max_cycles_length_approx': 7, 'num_max_cycles_approx': 33}\n",
      "Running test: Finding the Max Cycle in the Graph - Polynomial Time Approximation - 10x10 graph\n",
      "Test 'Finding the Max Cycle in the Graph - Polynomial Time Approximation - 10x10 graph' completed in 0.014491 seconds\n",
      "Result of test 'Finding the Max Cycle in the Graph - Polynomial Time Approximation - 10x10 graph': {'max_cycles_length_approx': 10, 'num_max_cycles_approx': 142}\n",
      "Running test: Finding the Max Cycle in the Graph - Polynomial Time Approximation - 20x20 graph\n",
      "Test 'Finding the Max Cycle in the Graph - Polynomial Time Approximation - 20x20 graph' completed in 0.013982 seconds\n",
      "Result of test 'Finding the Max Cycle in the Graph - Polynomial Time Approximation - 20x20 graph': {'max_cycles_length_approx': 10, 'num_max_cycles_approx': 156}\n",
      "Running test: Finding the Max Cycle in the Graph - Polynomial Time Approximation - 100x100 graph\n",
      "Test 'Finding the Max Cycle in the Graph - Polynomial Time Approximation - 100x100 graph' completed in 0.010215 seconds\n",
      "Result of test 'Finding the Max Cycle in the Graph - Polynomial Time Approximation - 100x100 graph': {'max_cycles_length_approx': 10, 'num_max_cycles_approx': 147}\n"
     ]
    },
    {
     "data": {
      "text/plain": [
       "({'max_cycles_length_approx': 10, 'num_max_cycles_approx': 147},\n",
       " 0.010215290996711701)"
      ]
     },
     "execution_count": 51,
     "metadata": {},
     "output_type": "execute_result"
    }
   ],
   "source": [
    "approxCyclesTestingUtil.run_test({\"adjacency_matrix\":graph_3x3_parsed['adjacency_matrix'],\"is_directed\":graph_3x3_parsed['is_directed'],\"iterations\":1000}, \"Finding the Max Cycle in the Graph - Polynomial Time Approximation - 3x3 graph\")\n",
    "approxCyclesTestingUtil.run_test({\"adjacency_matrix\":graph_7x7_parsed['adjacency_matrix'],\"is_directed\":graph_7x7_parsed['is_directed'],\"iterations\":1000}, \"Finding the Max Cycle in the Graph - Polynomial Time Approximation - 7x7 graph\")\n",
    "approxCyclesTestingUtil.run_test({\"adjacency_matrix\":graph_10x10_parsed['adjacency_matrix'],\"is_directed\":graph_10x10_parsed['is_directed'],\"iterations\":1000}, \"Finding the Max Cycle in the Graph - Polynomial Time Approximation - 10x10 graph\")\n",
    "approxCyclesTestingUtil.run_test({\"adjacency_matrix\":graph_10x10_parsed['adjacency_matrix'],\"is_directed\":graph_20x20_parsed['is_directed'],\"iterations\":1000}, \"Finding the Max Cycle in the Graph - Polynomial Time Approximation - 20x20 graph\")\n",
    "approxCyclesTestingUtil.run_test({\"adjacency_matrix\":graph_10x10_parsed['adjacency_matrix'],\"is_directed\":graph_100x100_parsed['is_directed'],\"iterations\":1000}, \"Finding the Max Cycle in the Graph - Polynomial Time Approximation - 100x100 graph\")"
   ]
  },
  {
   "cell_type": "markdown",
   "metadata": {},
   "source": [
    "#### Testing different inputs - 5000 iterations"
   ]
  },
  {
   "cell_type": "code",
   "execution_count": 52,
   "metadata": {},
   "outputs": [
    {
     "name": "stdout",
     "output_type": "stream",
     "text": [
      "Running test: Finding the Max Cycle in the Graph - Polynomial Time Approximation - 3x3 graph\n",
      "Test 'Finding the Max Cycle in the Graph - Polynomial Time Approximation - 3x3 graph' completed in 0.032032 seconds\n",
      "Result of test 'Finding the Max Cycle in the Graph - Polynomial Time Approximation - 3x3 graph': {'max_cycles_length_approx': 3, 'num_max_cycles_approx': 1}\n",
      "Running test: Finding the Max Cycle in the Graph - Polynomial Time Approximation - 7x7 graph\n",
      "Test 'Finding the Max Cycle in the Graph - Polynomial Time Approximation - 7x7 graph' completed in 0.044527 seconds\n",
      "Result of test 'Finding the Max Cycle in the Graph - Polynomial Time Approximation - 7x7 graph': {'max_cycles_length_approx': 7, 'num_max_cycles_approx': 33}\n",
      "Running test: Finding the Max Cycle in the Graph - Polynomial Time Approximation - 10x10 graph\n",
      "Test 'Finding the Max Cycle in the Graph - Polynomial Time Approximation - 10x10 graph' completed in 0.040246 seconds\n",
      "Result of test 'Finding the Max Cycle in the Graph - Polynomial Time Approximation - 10x10 graph': {'max_cycles_length_approx': 10, 'num_max_cycles_approx': 415}\n",
      "Running test: Finding the Max Cycle in the Graph - Polynomial Time Approximation - 20x20 graph\n",
      "Test 'Finding the Max Cycle in the Graph - Polynomial Time Approximation - 20x20 graph' completed in 0.046473 seconds\n",
      "Result of test 'Finding the Max Cycle in the Graph - Polynomial Time Approximation - 20x20 graph': {'max_cycles_length_approx': 10, 'num_max_cycles_approx': 410}\n",
      "Running test: Finding the Max Cycle in the Graph - Polynomial Time Approximation - 100x100 graph\n",
      "Test 'Finding the Max Cycle in the Graph - Polynomial Time Approximation - 100x100 graph' completed in 0.038215 seconds\n",
      "Result of test 'Finding the Max Cycle in the Graph - Polynomial Time Approximation - 100x100 graph': {'max_cycles_length_approx': 10, 'num_max_cycles_approx': 417}\n"
     ]
    },
    {
     "data": {
      "text/plain": [
       "({'max_cycles_length_approx': 10, 'num_max_cycles_approx': 417},\n",
       " 0.038214583008084446)"
      ]
     },
     "execution_count": 52,
     "metadata": {},
     "output_type": "execute_result"
    }
   ],
   "source": [
    "approxCyclesTestingUtil.run_test({\"adjacency_matrix\":graph_3x3_parsed['adjacency_matrix'],\"is_directed\":graph_3x3_parsed['is_directed'],\"iterations\":5000}, \"Finding the Max Cycle in the Graph - Polynomial Time Approximation - 3x3 graph\")\n",
    "approxCyclesTestingUtil.run_test({\"adjacency_matrix\":graph_7x7_parsed['adjacency_matrix'],\"is_directed\":graph_7x7_parsed['is_directed'],\"iterations\":5000}, \"Finding the Max Cycle in the Graph - Polynomial Time Approximation - 7x7 graph\")\n",
    "approxCyclesTestingUtil.run_test({\"adjacency_matrix\":graph_10x10_parsed['adjacency_matrix'],\"is_directed\":graph_10x10_parsed['is_directed'],\"iterations\":5000}, \"Finding the Max Cycle in the Graph - Polynomial Time Approximation - 10x10 graph\")\n",
    "approxCyclesTestingUtil.run_test({\"adjacency_matrix\":graph_10x10_parsed['adjacency_matrix'],\"is_directed\":graph_20x20_parsed['is_directed'],\"iterations\":5000}, \"Finding the Max Cycle in the Graph - Polynomial Time Approximation - 20x20 graph\")\n",
    "approxCyclesTestingUtil.run_test({\"adjacency_matrix\":graph_10x10_parsed['adjacency_matrix'],\"is_directed\":graph_100x100_parsed['is_directed'],\"iterations\":5000}, \"Finding the Max Cycle in the Graph - Polynomial Time Approximation - 100x100 graph\")"
   ]
  },
  {
   "cell_type": "markdown",
   "metadata": {},
   "source": [
    "#### Testing different inputs - 10000 iterations"
   ]
  },
  {
   "cell_type": "code",
   "execution_count": 53,
   "metadata": {},
   "outputs": [
    {
     "name": "stdout",
     "output_type": "stream",
     "text": [
      "Running test: Finding the Max Cycle in the Graph - Polynomial Time Approximation - 3x3 graph\n",
      "Test 'Finding the Max Cycle in the Graph - Polynomial Time Approximation - 3x3 graph' completed in 0.053087 seconds\n",
      "Result of test 'Finding the Max Cycle in the Graph - Polynomial Time Approximation - 3x3 graph': {'max_cycles_length_approx': 3, 'num_max_cycles_approx': 1}\n",
      "Running test: Finding the Max Cycle in the Graph - Polynomial Time Approximation - 7x7 graph\n",
      "Test 'Finding the Max Cycle in the Graph - Polynomial Time Approximation - 7x7 graph' completed in 0.072405 seconds\n",
      "Result of test 'Finding the Max Cycle in the Graph - Polynomial Time Approximation - 7x7 graph': {'max_cycles_length_approx': 7, 'num_max_cycles_approx': 33}\n",
      "Running test: Finding the Max Cycle in the Graph - Polynomial Time Approximation - 10x10 graph\n",
      "Test 'Finding the Max Cycle in the Graph - Polynomial Time Approximation - 10x10 graph' completed in 0.076075 seconds\n",
      "Result of test 'Finding the Max Cycle in the Graph - Polynomial Time Approximation - 10x10 graph': {'max_cycles_length_approx': 10, 'num_max_cycles_approx': 613}\n",
      "Running test: Finding the Max Cycle in the Graph - Polynomial Time Approximation - 20x20 graph\n",
      "Test 'Finding the Max Cycle in the Graph - Polynomial Time Approximation - 20x20 graph' completed in 0.092670 seconds\n",
      "Result of test 'Finding the Max Cycle in the Graph - Polynomial Time Approximation - 20x20 graph': {'max_cycles_length_approx': 10, 'num_max_cycles_approx': 628}\n",
      "Running test: Finding the Max Cycle in the Graph - Polynomial Time Approximation - 100x100 graph\n",
      "Test 'Finding the Max Cycle in the Graph - Polynomial Time Approximation - 100x100 graph' completed in 0.077822 seconds\n",
      "Result of test 'Finding the Max Cycle in the Graph - Polynomial Time Approximation - 100x100 graph': {'max_cycles_length_approx': 10, 'num_max_cycles_approx': 625}\n"
     ]
    },
    {
     "data": {
      "text/plain": [
       "({'max_cycles_length_approx': 10, 'num_max_cycles_approx': 625},\n",
       " 0.0778217089973623)"
      ]
     },
     "execution_count": 53,
     "metadata": {},
     "output_type": "execute_result"
    }
   ],
   "source": [
    "approxCyclesTestingUtil.run_test({\"adjacency_matrix\":graph_3x3_parsed['adjacency_matrix'],\"is_directed\":graph_3x3_parsed['is_directed'],\"iterations\":10000}, \"Finding the Max Cycle in the Graph - Polynomial Time Approximation - 3x3 graph\")\n",
    "approxCyclesTestingUtil.run_test({\"adjacency_matrix\":graph_7x7_parsed['adjacency_matrix'],\"is_directed\":graph_7x7_parsed['is_directed'],\"iterations\":10000}, \"Finding the Max Cycle in the Graph - Polynomial Time Approximation - 7x7 graph\")\n",
    "approxCyclesTestingUtil.run_test({\"adjacency_matrix\":graph_10x10_parsed['adjacency_matrix'],\"is_directed\":graph_10x10_parsed['is_directed'],\"iterations\":10000}, \"Finding the Max Cycle in the Graph - Polynomial Time Approximation - 10x10 graph\")\n",
    "approxCyclesTestingUtil.run_test({\"adjacency_matrix\":graph_10x10_parsed['adjacency_matrix'],\"is_directed\":graph_20x20_parsed['is_directed'],\"iterations\":10000}, \"Finding the Max Cycle in the Graph - Polynomial Time Approximation - 20x20 graph\")\n",
    "approxCyclesTestingUtil.run_test({\"adjacency_matrix\":graph_10x10_parsed['adjacency_matrix'],\"is_directed\":graph_100x100_parsed['is_directed'],\"iterations\":10000}, \"Finding the Max Cycle in the Graph - Polynomial Time Approximation - 100x100 graph\")"
   ]
  },
  {
   "cell_type": "markdown",
   "metadata": {},
   "source": [
    "## 3.4 Finding the Minimum Extension to Achieve Hamiltonian Graph"
   ]
  },
  {
   "cell_type": "markdown",
   "metadata": {},
   "source": [
    "#### Data preparation"
   ]
  },
  {
   "cell_type": "code",
   "execution_count": 54,
   "metadata": {},
   "outputs": [],
   "source": [
    "is_3x3_directed, graph_3x3 = inputGeneratorUtil.generate_random_graph(3)\n",
    "graph_3x3_parsed = inputParserUtil.parse_single_graph(graph_3x3)\n",
    "\n",
    "is_6x6_directed, graph_6x6 = inputGeneratorUtil.generate_random_graph(6)\n",
    "graph_6x6_parsed = inputParserUtil.parse_single_graph(graph_6x6)\n",
    "\n",
    "is_10x10_directed, graph_10x10 = inputGeneratorUtil.generate_random_graph(10)\n",
    "graph_10x10_parsed = inputParserUtil.parse_single_graph(graph_10x10)\n"
   ]
  },
  {
   "cell_type": "markdown",
   "metadata": {},
   "source": [
    "#### Testing utils preparation"
   ]
  },
  {
   "cell_type": "code",
   "execution_count": 55,
   "metadata": {},
   "outputs": [],
   "source": [
    "minNumExtensionExactTestingUtil = TestingUtil(min_num_hamiltonian_extension_exact)\n",
    "minNumExtensionAproxTestingUtil = TestingUtil(min_num_hamiltonian_extension_approx)"
   ]
  },
  {
   "cell_type": "code",
   "execution_count": 56,
   "metadata": {},
   "outputs": [
    {
     "data": {
      "text/plain": [
       "[[0, 1, 1, 1, 0, 1],\n",
       " [1, 0, 1, 1, 1, 1],\n",
       " [1, 1, 0, 0, 1, 1],\n",
       " [1, 1, 0, 0, 1, 1],\n",
       " [0, 1, 1, 1, 0, 1],\n",
       " [1, 1, 1, 1, 1, 0]]"
      ]
     },
     "execution_count": 56,
     "metadata": {},
     "output_type": "execute_result"
    }
   ],
   "source": [
    "graph_6x6_parsed['adjacency_matrix']"
   ]
  },
  {
   "cell_type": "markdown",
   "metadata": {},
   "source": [
    "### 3.4.1 Finding the Minimum Extension to Achieve Hamiltonian Graph - Exact Algorithm"
   ]
  },
  {
   "cell_type": "markdown",
   "metadata": {},
   "source": [
    "#### Testing different inputs"
   ]
  },
  {
   "cell_type": "code",
   "execution_count": 57,
   "metadata": {},
   "outputs": [
    {
     "name": "stdout",
     "output_type": "stream",
     "text": [
      "Running test: Finding the Min Number of Hamiltonian Extension - Exact Algorithm - 3x3 graph\n",
      "Test 'Finding the Min Number of Hamiltonian Extension - Exact Algorithm - 3x3 graph' completed in 0.000157 seconds\n",
      "Result of test 'Finding the Min Number of Hamiltonian Extension - Exact Algorithm - 3x3 graph': 3\n",
      "Running test: Finding the Min Number of Hamiltonian Extension - Exact Algorithm - 6x6 graph\n",
      "Test 'Finding the Min Number of Hamiltonian Extension - Exact Algorithm - 6x6 graph' completed in 0.000007 seconds\n",
      "Result of test 'Finding the Min Number of Hamiltonian Extension - Exact Algorithm - 6x6 graph': 0\n",
      "Running test: Finding the Min Number of Hamiltonian Extension - Exact Algorithm - 10x10 graph\n",
      "Test 'Finding the Min Number of Hamiltonian Extension - Exact Algorithm - 10x10 graph' completed in 0.044509 seconds\n",
      "Result of test 'Finding the Min Number of Hamiltonian Extension - Exact Algorithm - 10x10 graph': 0\n"
     ]
    },
    {
     "data": {
      "text/plain": [
       "(0, 0.044508749997476116)"
      ]
     },
     "execution_count": 57,
     "metadata": {},
     "output_type": "execute_result"
    }
   ],
   "source": [
    "minNumExtensionExactTestingUtil.run_test({\"adjacency_matrix\":graph_3x3_parsed['adjacency_matrix'],\"is_directed\":graph_3x3_parsed['is_directed']}, \"Finding the Min Number of Hamiltonian Extension - Exact Algorithm - 3x3 graph\")\n",
    "minNumExtensionExactTestingUtil.run_test({\"adjacency_matrix\":graph_6x6_parsed['adjacency_matrix'],\"is_directed\":graph_6x6_parsed['is_directed']}, \"Finding the Min Number of Hamiltonian Extension - Exact Algorithm - 6x6 graph\")\n",
    "minNumExtensionExactTestingUtil.run_test({\"adjacency_matrix\":graph_10x10_parsed['adjacency_matrix'],\"is_directed\":graph_10x10_parsed['is_directed']}, \"Finding the Min Number of Hamiltonian Extension - Exact Algorithm - 10x10 graph\")"
   ]
  },
  {
   "cell_type": "markdown",
   "metadata": {},
   "source": [
    "### 3.4.2 Finding the Minimum Extension to Achieve Hamiltonian Graph - Polynomial Time Approach"
   ]
  },
  {
   "cell_type": "markdown",
   "metadata": {},
   "source": [
    "#### Testing different inputs"
   ]
  },
  {
   "cell_type": "code",
   "execution_count": 58,
   "metadata": {},
   "outputs": [
    {
     "name": "stdout",
     "output_type": "stream",
     "text": [
      "Running test: Finding the Min Number of Hamiltonian Extension - Polynomial Time Approximation - 3x3 graph\n",
      "Test 'Finding the Min Number of Hamiltonian Extension - Polynomial Time Approximation - 3x3 graph' completed in 0.000103 seconds\n",
      "Result of test 'Finding the Min Number of Hamiltonian Extension - Polynomial Time Approximation - 3x3 graph': 2\n",
      "Running test: Finding the Min Number of Hamiltonian Extension - Polynomial Time Approximation - 6x6 graph\n",
      "Test 'Finding the Min Number of Hamiltonian Extension - Polynomial Time Approximation - 6x6 graph' completed in 0.000017 seconds\n",
      "Result of test 'Finding the Min Number of Hamiltonian Extension - Polynomial Time Approximation - 6x6 graph': 0\n",
      "Running test: Finding the Min Number of Hamiltonian Extension - Polynomial Time Approximation - 10x10 graph\n",
      "Test 'Finding the Min Number of Hamiltonian Extension - Polynomial Time Approximation - 10x10 graph' completed in 0.000137 seconds\n",
      "Result of test 'Finding the Min Number of Hamiltonian Extension - Polynomial Time Approximation - 10x10 graph': 1\n"
     ]
    },
    {
     "data": {
      "text/plain": [
       "(1, 0.00013683400175068527)"
      ]
     },
     "execution_count": 58,
     "metadata": {},
     "output_type": "execute_result"
    }
   ],
   "source": [
    "minNumExtensionAproxTestingUtil.run_test({\"adjacency_matrix\":graph_3x3_parsed['adjacency_matrix'],\"is_directed\":graph_3x3_parsed['is_directed'],\"iterations\":1000}, \"Finding the Min Number of Hamiltonian Extension - Polynomial Time Approximation - 3x3 graph\")\n",
    "minNumExtensionAproxTestingUtil.run_test({\"adjacency_matrix\":graph_6x6_parsed['adjacency_matrix'],\"is_directed\":graph_6x6_parsed['is_directed'],\"iterations\":1000}, \"Finding the Min Number of Hamiltonian Extension - Polynomial Time Approximation - 6x6 graph\")\n",
    "minNumExtensionAproxTestingUtil.run_test({\"adjacency_matrix\":graph_10x10_parsed['adjacency_matrix'],\"is_directed\":graph_10x10_parsed['is_directed'],\"iterations\":1000}, \"Finding the Min Number of Hamiltonian Extension - Polynomial Time Approximation - 10x10 graph\")"
   ]
  },
  {
   "cell_type": "markdown",
   "metadata": {},
   "source": [
    "## 3.5 Finding All Hamiltonian Cycles"
   ]
  },
  {
   "cell_type": "markdown",
   "metadata": {},
   "source": [
    "#### Data preparation"
   ]
  },
  {
   "cell_type": "code",
   "execution_count": 79,
   "metadata": {},
   "outputs": [],
   "source": [
    "is_3x3_directed, graph_3x3 = inputGeneratorUtil.generate_random_graph(3)\n",
    "graph_3x3_parsed = inputParserUtil.parse_single_graph(graph_3x3)\n",
    "\n",
    "is_6x6_directed, graph_6x6 = inputGeneratorUtil.generate_random_graph(6)\n",
    "graph_6x6_parsed = inputParserUtil.parse_single_graph(graph_6x6)\n",
    "\n",
    "is_10x10_directed, graph_10x10 = inputGeneratorUtil.generate_random_graph(10)\n",
    "graph_10x10_parsed = inputParserUtil.parse_single_graph(graph_10x10)\n"
   ]
  },
  {
   "cell_type": "markdown",
   "metadata": {},
   "source": [
    "#### Testing utils preparation"
   ]
  },
  {
   "cell_type": "code",
   "execution_count": 89,
   "metadata": {},
   "outputs": [],
   "source": [
    "# exact\n",
    "countHamiltinianCyclesBacktrackTestingUtil = TestingUtil(count_hamiltonian_cycles_backtrack)\n",
    "# polynomial approximation\n",
    "countHamiltinianCyclesRandomizedBiasedTestingUtil = TestingUtil(count_hamiltonian_cycles_randomized_biased)\n",
    "countHamiltinianCyclesGeneticTestingUtil = TestingUtil(count_hamiltonian_cycles_genetic)"
   ]
  },
  {
   "cell_type": "markdown",
   "metadata": {},
   "source": [
    "### 3.5.1 Finding the Minimum Extension to Achieve Hamiltonian Graph - Exact Algorithm"
   ]
  },
  {
   "cell_type": "markdown",
   "metadata": {},
   "source": [
    "#### Testing different inputs"
   ]
  },
  {
   "cell_type": "code",
   "execution_count": 81,
   "metadata": {},
   "outputs": [
    {
     "name": "stdout",
     "output_type": "stream",
     "text": [
      "Running test: Finding the Number of Hamiltonian Cycles - Exact Algorithm - 3x3 graph\n",
      "Test 'Finding the Number of Hamiltonian Cycles - Exact Algorithm - 3x3 graph' completed in 0.000066 seconds\n",
      "Result of test 'Finding the Number of Hamiltonian Cycles - Exact Algorithm - 3x3 graph': 1\n",
      "Running test: Finding the Number of Hamiltonian Cycles - Exact Algorithm - 6x6 graph\n",
      "Test 'Finding the Number of Hamiltonian Cycles - Exact Algorithm - 6x6 graph' completed in 0.000090 seconds\n",
      "Result of test 'Finding the Number of Hamiltonian Cycles - Exact Algorithm - 6x6 graph': 0\n",
      "Running test: Finding the Number of Hamiltonian Cycles - Exact Algorithm - 10x10 graph\n",
      "Test 'Finding the Number of Hamiltonian Cycles - Exact Algorithm - 10x10 graph' completed in 0.169111 seconds\n",
      "Result of test 'Finding the Number of Hamiltonian Cycles - Exact Algorithm - 10x10 graph': 1264\n"
     ]
    },
    {
     "data": {
      "text/plain": [
       "(1264, 0.16911099999560975)"
      ]
     },
     "execution_count": 81,
     "metadata": {},
     "output_type": "execute_result"
    }
   ],
   "source": [
    "countHamiltinianCyclesBacktrackTestingUtil.run_test({\"adjacency_matrix\":graph_3x3_parsed['adjacency_matrix'],\"is_directed\":graph_3x3_parsed['is_directed']}, \"Finding the Number of Hamiltonian Cycles - Exact Algorithm - 3x3 graph\")\n",
    "countHamiltinianCyclesBacktrackTestingUtil.run_test({\"adjacency_matrix\":graph_6x6_parsed['adjacency_matrix'],\"is_directed\":graph_6x6_parsed['is_directed']}, \"Finding the Number of Hamiltonian Cycles - Exact Algorithm - 6x6 graph\")\n",
    "countHamiltinianCyclesBacktrackTestingUtil.run_test({\"adjacency_matrix\":graph_10x10_parsed['adjacency_matrix'],\"is_directed\":graph_10x10_parsed['is_directed']}, \"Finding the Number of Hamiltonian Cycles - Exact Algorithm - 10x10 graph\")"
   ]
  },
  {
   "cell_type": "markdown",
   "metadata": {},
   "source": [
    "### 3.5.1 Finding the Minimum Extension to Achieve Hamiltonian Graph - Polynomial Time Approach"
   ]
  },
  {
   "cell_type": "markdown",
   "metadata": {},
   "source": [
    "#### Testing different inputs - randomized biased testing"
   ]
  },
  {
   "cell_type": "code",
   "execution_count": 90,
   "metadata": {},
   "outputs": [
    {
     "name": "stdout",
     "output_type": "stream",
     "text": [
      "Running test: Finding the Number of Hamiltonian Cycles - Polynomial Time Approximation - 3x3 graph\n",
      "Test 'Finding the Number of Hamiltonian Cycles - Polynomial Time Approximation - 3x3 graph' completed in 0.007920 seconds\n",
      "Result of test 'Finding the Number of Hamiltonian Cycles - Polynomial Time Approximation - 3x3 graph': 1\n",
      "Running test: Finding the Number of Hamiltonian Cycles - Polynomial Time Approximation - 6x6 graph\n",
      "Test 'Finding the Number of Hamiltonian Cycles - Polynomial Time Approximation - 6x6 graph' completed in 0.006540 seconds\n",
      "Result of test 'Finding the Number of Hamiltonian Cycles - Polynomial Time Approximation - 6x6 graph': 0\n",
      "Running test: Finding the Number of Hamiltonian Cycles - Polynomial Time Approximation - 10x10 graph\n",
      "Test 'Finding the Number of Hamiltonian Cycles - Polynomial Time Approximation - 10x10 graph' completed in 0.009026 seconds\n",
      "Result of test 'Finding the Number of Hamiltonian Cycles - Polynomial Time Approximation - 10x10 graph': 3\n",
      "Running test: Finding the Number of Hamiltonian Cycles - Polynomial Time Approximation - 15x15 graph\n",
      "Test 'Finding the Number of Hamiltonian Cycles - Polynomial Time Approximation - 15x15 graph' completed in 0.009134 seconds\n",
      "Result of test 'Finding the Number of Hamiltonian Cycles - Polynomial Time Approximation - 15x15 graph': 1\n"
     ]
    },
    {
     "data": {
      "text/plain": [
       "(1, 0.009133540996117517)"
      ]
     },
     "execution_count": 90,
     "metadata": {},
     "output_type": "execute_result"
    }
   ],
   "source": [
    "countHamiltinianCyclesRandomizedBiasedTestingUtil.run_test({\"adjacency_matrix\":graph_3x3_parsed['adjacency_matrix'],\"is_directed\":graph_3x3_parsed['is_directed'],\"iterations\":1000}, \"Finding the Number of Hamiltonian Cycles - Polynomial Time Approximation - 3x3 graph\")\n",
    "countHamiltinianCyclesRandomizedBiasedTestingUtil.run_test({\"adjacency_matrix\":graph_6x6_parsed['adjacency_matrix'],\"is_directed\":graph_6x6_parsed['is_directed'],\"iterations\":1000}, \"Finding the Number of Hamiltonian Cycles - Polynomial Time Approximation - 6x6 graph\")\n",
    "countHamiltinianCyclesRandomizedBiasedTestingUtil.run_test({\"adjacency_matrix\":graph_10x10_parsed['adjacency_matrix'],\"is_directed\":graph_10x10_parsed['is_directed'],\"iterations\":1000}, \"Finding the Number of Hamiltonian Cycles - Polynomial Time Approximation - 10x10 graph\")\n",
    "countHamiltinianCyclesRandomizedBiasedTestingUtil.run_test({\"adjacency_matrix\":graph_15x15_parsed['adjacency_matrix'],\"is_directed\":graph_15x15_parsed['is_directed'],\"iterations\":1000}, \"Finding the Number of Hamiltonian Cycles - Polynomial Time Approximation - 15x15 graph\")\n",
    "\n"
   ]
  },
  {
   "cell_type": "markdown",
   "metadata": {},
   "source": [
    "#### Testing different inputs - randomized testing"
   ]
  },
  {
   "cell_type": "code",
   "execution_count": 91,
   "metadata": {},
   "outputs": [
    {
     "name": "stdout",
     "output_type": "stream",
     "text": [
      "Running test: Finding the Number of Hamiltonian Cycles - Genetic Algorithm - 10x10 graph, population size 20, generations 10\n",
      "Test 'Finding the Number of Hamiltonian Cycles - Genetic Algorithm - 10x10 graph, population size 20, generations 10' completed in 0.092684 seconds\n",
      "Result of test 'Finding the Number of Hamiltonian Cycles - Genetic Algorithm - 10x10 graph, population size 20, generations 10': 122\n",
      "Running test: Finding the Number of Hamiltonian Cycles - Genetic Algorithm - 15x15 graph, population size 20, generations 10\n",
      "Test 'Finding the Number of Hamiltonian Cycles - Genetic Algorithm - 15x15 graph, population size 20, generations 10' completed in 3.545268 seconds\n",
      "Result of test 'Finding the Number of Hamiltonian Cycles - Genetic Algorithm - 15x15 graph, population size 20, generations 10': 122\n"
     ]
    },
    {
     "data": {
      "text/plain": [
       "(122, 3.54526845899818)"
      ]
     },
     "execution_count": 91,
     "metadata": {},
     "output_type": "execute_result"
    }
   ],
   "source": [
    "countHamiltinianCyclesGeneticTestingUtil.run_test({\"adjacency_matrix\":graph_10x10_parsed['adjacency_matrix'],\"is_directed\":graph_10x10_parsed['is_directed'],\"population_size\":20, \"generations\":10}, \"Finding the Number of Hamiltonian Cycles - Genetic Algorithm - 10x10 graph, population size 20, generations 10\")\n",
    "countHamiltinianCyclesGeneticTestingUtil.run_test({\"adjacency_matrix\":graph_15x15_parsed['adjacency_matrix'],\"is_directed\":graph_15x15_parsed['is_directed'],\"population_size\":20, \"generations\":10}, \"Finding the Number of Hamiltonian Cycles - Genetic Algorithm - 15x15 graph, population size 20, generations 10\")"
   ]
  }
 ],
 "metadata": {
  "kernelspec": {
   "display_name": "base",
   "language": "python",
   "name": "python3"
  },
  "language_info": {
   "codemirror_mode": {
    "name": "ipython",
    "version": 3
   },
   "file_extension": ".py",
   "mimetype": "text/x-python",
   "name": "python",
   "nbconvert_exporter": "python",
   "pygments_lexer": "ipython3",
   "version": "3.11.5"
  }
 },
 "nbformat": 4,
 "nbformat_minor": 2
}

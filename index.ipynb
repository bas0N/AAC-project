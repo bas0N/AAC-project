{
 "cells": [
  {
   "cell_type": "markdown",
   "metadata": {},
   "source": [
    "## AAC project"
   ]
  },
  {
   "cell_type": "code",
   "execution_count": 41,
   "metadata": {},
   "outputs": [],
   "source": [
    "from utils.input_generator_util import InputGeneratorUtil\n",
    "from utils.testing_util import TestingUtil\n",
    "from algorithms.graph_size import GraphSizeCalculator\n",
    "from utils.input_parser_util import InputParserUtil\n",
    "from algorithms.distance_between_graphs import GraphDistanceCalculator\n",
    "from algorithms.cycles import find_all_cycles, approximate_max_cycles, normalize_cycle\n",
    "from algorithms.hamiltonian_cycles_min_extension import min_num_hamiltonian_extension_exact, min_num_hamiltonian_extension_approx\n",
    "from algorithms.hamiltonian_cycles_number import count_hamiltonian_cycles_backtrack,count_hamiltonian_cycles_randomized_biased\n"
   ]
  },
  {
   "cell_type": "markdown",
   "metadata": {},
   "source": [
    "### General utils initialisation"
   ]
  },
  {
   "cell_type": "code",
   "execution_count": 42,
   "metadata": {},
   "outputs": [],
   "source": [
    "inputGeneratorUtil =  InputGeneratorUtil()\n",
    "inputParserUtil = InputParserUtil()"
   ]
  },
  {
   "cell_type": "markdown",
   "metadata": {},
   "source": [
    "## 3.1 Finding the Size of the Graph"
   ]
  },
  {
   "cell_type": "markdown",
   "metadata": {},
   "source": [
    "#### Data preparation"
   ]
  },
  {
   "cell_type": "code",
   "execution_count": 43,
   "metadata": {},
   "outputs": [],
   "source": [
    "is_3x3_directed, graph_3x3 = inputGeneratorUtil.generate_random_graph(3)\n",
    "graph_3x3_parsed = inputParserUtil.parse_single_graph(graph_3x3)\n",
    "\n",
    "is_10x10_directed, graph_10x10 = inputGeneratorUtil.generate_random_graph(10)\n",
    "graph_10x10_parsed = inputParserUtil.parse_single_graph(graph_10x10)\n",
    "\n",
    "\n",
    "is_100x100_directed, graph_100x100 = inputGeneratorUtil.generate_random_graph(100)\n",
    "graph_100x100_parsed = inputParserUtil.parse_single_graph(graph_100x100)"
   ]
  },
  {
   "cell_type": "markdown",
   "metadata": {},
   "source": [
    "#### Testing utils preparation"
   ]
  },
  {
   "cell_type": "code",
   "execution_count": 44,
   "metadata": {},
   "outputs": [],
   "source": [
    "graphSizeTestingUtil = TestingUtil(GraphSizeCalculator.graph_size)"
   ]
  },
  {
   "cell_type": "markdown",
   "metadata": {},
   "source": [
    "#### Testing different inputs"
   ]
  },
  {
   "cell_type": "code",
   "execution_count": 45,
   "metadata": {},
   "outputs": [
    {
     "name": "stdout",
     "output_type": "stream",
     "text": [
      "Running test: Finding the Size of the Graph - 3x3 graph\n",
      "Test 'Finding the Size of the Graph - 3x3 graph' completed in 0.000004 seconds\n",
      "Result of test 'Finding the Size of the Graph - 3x3 graph': 2\n",
      "Running test: Finding the Size of the Graph - 10x10 graph\n",
      "Test 'Finding the Size of the Graph - 10x10 graph' completed in 0.000006 seconds\n",
      "Result of test 'Finding the Size of the Graph - 10x10 graph': 25\n",
      "Running test: Finding the Size of the Graph - 100x100 graph\n",
      "Test 'Finding the Size of the Graph - 100x100 graph' completed in 0.000106 seconds\n",
      "Result of test 'Finding the Size of the Graph - 100x100 graph': 2516\n"
     ]
    },
    {
     "data": {
      "text/plain": [
       "(2516, 0.00010600000678095967)"
      ]
     },
     "execution_count": 45,
     "metadata": {},
     "output_type": "execute_result"
    }
   ],
   "source": [
    "graphSizeTestingUtil.run_test((graph_3x3_parsed['adjacency_matrix'],graph_3x3_parsed['is_directed']), \"Finding the Size of the Graph - 3x3 graph\")\n",
    "graphSizeTestingUtil.run_test((graph_10x10_parsed['adjacency_matrix'],graph_10x10_parsed['is_directed']), \"Finding the Size of the Graph - 10x10 graph\")\n",
    "graphSizeTestingUtil.run_test((graph_100x100_parsed['adjacency_matrix'],graph_100x100_parsed['is_directed']), \"Finding the Size of the Graph - 100x100 graph\")"
   ]
  },
  {
   "cell_type": "markdown",
   "metadata": {},
   "source": [
    "## 3.2 Finding the Distance Between Two Graphs"
   ]
  },
  {
   "cell_type": "markdown",
   "metadata": {},
   "source": [
    "#### Data preparation"
   ]
  },
  {
   "cell_type": "code",
   "execution_count": 46,
   "metadata": {},
   "outputs": [],
   "source": [
    "is_a_3x3_directed, graph_a_3x3 = inputGeneratorUtil.generate_random_graph(3,False)\n",
    "graph_a_3x3_parsed = inputParserUtil.parse_single_graph(graph_a_3x3)\n",
    "is_b_3x3_directed, graph_b_3x3 = inputGeneratorUtil.generate_random_graph(3,False)\n",
    "graph_b_3x3_parsed = inputParserUtil.parse_single_graph(graph_b_3x3)\n",
    "\n",
    "is_a_10x10_directed, graph_a_10x10 = inputGeneratorUtil.generate_random_graph(10,False)\n",
    "graph_a_10x10_parsed = inputParserUtil.parse_single_graph(graph_a_10x10)\n",
    "is_b_10x10_directed, graph_b_10x10 = inputGeneratorUtil.generate_random_graph(10,False)\n",
    "graph_b_10x10_parsed = inputParserUtil.parse_single_graph(graph_b_10x10)\n",
    "\n",
    "is_a_100x100_directed, graph_a_100x100 = inputGeneratorUtil.generate_random_graph(100,False)\n",
    "graph_a_100x100_parsed = inputParserUtil.parse_single_graph(graph_a_100x100)\n",
    "is_b_100x100_directed, graph_b_100x100= inputGeneratorUtil.generate_random_graph(100,False)\n",
    "graph_b_100x100_parsed = inputParserUtil.parse_single_graph(graph_b_100x100)"
   ]
  },
  {
   "cell_type": "markdown",
   "metadata": {},
   "source": [
    "#### Testing utils preparation"
   ]
  },
  {
   "cell_type": "code",
   "execution_count": 47,
   "metadata": {},
   "outputs": [],
   "source": [
    "graphDistanceCalculator = GraphDistanceCalculator()\n",
    "graphDistanceTestingUtil = TestingUtil(graphDistanceCalculator.calculate_distance)"
   ]
  },
  {
   "cell_type": "markdown",
   "metadata": {},
   "source": [
    "#### Testing different inputs"
   ]
  },
  {
   "cell_type": "code",
   "execution_count": 48,
   "metadata": {},
   "outputs": [
    {
     "name": "stdout",
     "output_type": "stream",
     "text": [
      "Running test: Finding the Distance Between Two Graphs - 3x3 graph\n",
      "Test 'Finding the Distance Between Two Graphs - 3x3 graph' completed in 0.000003 seconds\n",
      "Result of test 'Finding the Distance Between Two Graphs - 3x3 graph': 1\n",
      "Running test: Finding the Distance Between Two Graphs - 10x10 graph\n",
      "Test 'Finding the Distance Between Two Graphs - 10x10 graph' completed in 0.000007 seconds\n",
      "Result of test 'Finding the Distance Between Two Graphs - 10x10 graph': 23\n",
      "Running test: Finding the Distance Between Two Graphs - 100x100 graph\n",
      "Test 'Finding the Distance Between Two Graphs - 100x100 graph' completed in 0.000460 seconds\n",
      "Result of test 'Finding the Distance Between Two Graphs - 100x100 graph': 2459\n"
     ]
    },
    {
     "data": {
      "text/plain": [
       "(2459, 0.00046004100295249373)"
      ]
     },
     "execution_count": 48,
     "metadata": {},
     "output_type": "execute_result"
    }
   ],
   "source": [
    "graphDistanceTestingUtil.run_test((graph_a_3x3_parsed['adjacency_matrix'],graph_b_3x3_parsed['adjacency_matrix'], False), \"Finding the Distance Between Two Graphs - 3x3 graph\")\n",
    "graphDistanceTestingUtil.run_test((graph_a_10x10_parsed['adjacency_matrix'],graph_b_10x10_parsed['adjacency_matrix'],False), \"Finding the Distance Between Two Graphs - 10x10 graph\")\n",
    "graphDistanceTestingUtil.run_test((graph_a_100x100_parsed['adjacency_matrix'],graph_b_100x100_parsed['adjacency_matrix'],False), \"Finding the Distance Between Two Graphs - 100x100 graph\")\n"
   ]
  },
  {
   "cell_type": "markdown",
   "metadata": {},
   "source": [
    "## 3.3 Finding the Max Cycle in the Graph"
   ]
  },
  {
   "cell_type": "markdown",
   "metadata": {},
   "source": [
    "#### Data preparation"
   ]
  },
  {
   "cell_type": "code",
   "execution_count": 49,
   "metadata": {},
   "outputs": [],
   "source": [
    "is_3x3_directed, graph_3x3 = inputGeneratorUtil.generate_random_graph(3)\n",
    "graph_3x3_parsed = inputParserUtil.parse_single_graph(graph_3x3)\n",
    "\n",
    "is_7x7_directed, graph_7x7 = inputGeneratorUtil.generate_random_graph(7)\n",
    "graph_7x7_parsed = inputParserUtil.parse_single_graph(graph_7x7)\n",
    "\n",
    "is_10x10_directed, graph_10x10 = inputGeneratorUtil.generate_random_graph(10)\n",
    "graph_10x10_parsed = inputParserUtil.parse_single_graph(graph_10x10)\n",
    "\n",
    "is_20x20_directed, graph_20x20 = inputGeneratorUtil.generate_random_graph(20) #approximation only\n",
    "graph_20x20_parsed = inputParserUtil.parse_single_graph(graph_20x20)\n",
    "\n",
    "is_100x100_directed, graph_100x100 = inputGeneratorUtil.generate_random_graph(100) #approximation only\n",
    "graph_100x100_parsed = inputParserUtil.parse_single_graph(graph_100x100)\n"
   ]
  },
  {
   "cell_type": "markdown",
   "metadata": {},
   "source": [
    "#### Testing utils preparation"
   ]
  },
  {
   "cell_type": "code",
   "execution_count": 50,
   "metadata": {},
   "outputs": [],
   "source": [
    "allCyclesTestingUtil = TestingUtil(find_all_cycles)\n",
    "approxCyclesTestingUtil = TestingUtil(approximate_max_cycles)"
   ]
  },
  {
   "cell_type": "markdown",
   "metadata": {},
   "source": [
    "### 3.3.1 Finding the Max Cycle in the Graph - Exact Algorithm"
   ]
  },
  {
   "cell_type": "markdown",
   "metadata": {},
   "source": [
    "#### Testing different inputs"
   ]
  },
  {
   "cell_type": "code",
   "execution_count": 51,
   "metadata": {},
   "outputs": [
    {
     "name": "stdout",
     "output_type": "stream",
     "text": [
      "Running test: Finding the Max Cycle in the Graph - Exact Algorithm - 3x3 graph\n",
      "Test 'Finding the Max Cycle in the Graph - Exact Algorithm - 3x3 graph' completed in 0.000008 seconds\n",
      "Result of test 'Finding the Max Cycle in the Graph - Exact Algorithm - 3x3 graph': {'max_cycle_length': 0, 'num_max_cycles': 0}\n",
      "Running test: Finding the Max Cycle in the Graph - Exact Algorithm - 7x7 graph\n",
      "Test 'Finding the Max Cycle in the Graph - Exact Algorithm - 7x7 graph' completed in 0.002488 seconds\n",
      "Result of test 'Finding the Max Cycle in the Graph - Exact Algorithm - 7x7 graph': {'max_cycle_length': 7, 'num_max_cycles': 8}\n",
      "Running test: Finding the Max Cycle in the Graph - Exact Algorithm - 10x10 graph\n",
      "Test 'Finding the Max Cycle in the Graph - Exact Algorithm - 10x10 graph' completed in 0.100146 seconds\n",
      "Result of test 'Finding the Max Cycle in the Graph - Exact Algorithm - 10x10 graph': {'max_cycle_length': 10, 'num_max_cycles': 10}\n"
     ]
    },
    {
     "data": {
      "text/plain": [
       "({'max_cycle_length': 10, 'num_max_cycles': 10}, 0.10014629201032221)"
      ]
     },
     "execution_count": 51,
     "metadata": {},
     "output_type": "execute_result"
    }
   ],
   "source": [
    "allCyclesTestingUtil.run_test({\"adjacency_matrix\":graph_3x3_parsed['adjacency_matrix'],\"is_directed\":graph_3x3_parsed['is_directed']}, \"Finding the Max Cycle in the Graph - Exact Algorithm - 3x3 graph\")\n",
    "allCyclesTestingUtil.run_test({\"adjacency_matrix\":graph_7x7_parsed['adjacency_matrix'],\"is_directed\":graph_7x7_parsed['is_directed']}, \"Finding the Max Cycle in the Graph - Exact Algorithm - 7x7 graph\")\n",
    "allCyclesTestingUtil.run_test({\"adjacency_matrix\":graph_10x10_parsed['adjacency_matrix'],\"is_directed\":graph_10x10_parsed['is_directed']}, \"Finding the Max Cycle in the Graph - Exact Algorithm - 10x10 graph\")"
   ]
  },
  {
   "cell_type": "markdown",
   "metadata": {},
   "source": [
    "### 3.3.2 Finding the Max Cycle in the Graph - Polynomial Time Approximation"
   ]
  },
  {
   "cell_type": "markdown",
   "metadata": {},
   "source": [
    "#### Testing different inputs - 1000 iterations"
   ]
  },
  {
   "cell_type": "code",
   "execution_count": 52,
   "metadata": {},
   "outputs": [
    {
     "name": "stdout",
     "output_type": "stream",
     "text": [
      "Running test: Finding the Max Cycle in the Graph - Polynomial Time Approximation - 3x3 graph\n",
      "Test 'Finding the Max Cycle in the Graph - Polynomial Time Approximation - 3x3 graph' completed in 0.003079 seconds\n",
      "Result of test 'Finding the Max Cycle in the Graph - Polynomial Time Approximation - 3x3 graph': {'max_cycles_length_approx': 3, 'num_max_cycles_approx': 1}\n",
      "Running test: Finding the Max Cycle in the Graph - Polynomial Time Approximation - 7x7 graph\n",
      "Test 'Finding the Max Cycle in the Graph - Polynomial Time Approximation - 7x7 graph' completed in 0.007025 seconds\n",
      "Result of test 'Finding the Max Cycle in the Graph - Polynomial Time Approximation - 7x7 graph': {'max_cycles_length_approx': 7, 'num_max_cycles_approx': 62}\n",
      "Running test: Finding the Max Cycle in the Graph - Polynomial Time Approximation - 10x10 graph\n",
      "Test 'Finding the Max Cycle in the Graph - Polynomial Time Approximation - 10x10 graph' completed in 0.009724 seconds\n",
      "Result of test 'Finding the Max Cycle in the Graph - Polynomial Time Approximation - 10x10 graph': {'max_cycles_length_approx': 10, 'num_max_cycles_approx': 126}\n",
      "Running test: Finding the Max Cycle in the Graph - Polynomial Time Approximation - 20x20 graph\n",
      "Test 'Finding the Max Cycle in the Graph - Polynomial Time Approximation - 20x20 graph' completed in 0.007743 seconds\n",
      "Result of test 'Finding the Max Cycle in the Graph - Polynomial Time Approximation - 20x20 graph': {'max_cycles_length_approx': 10, 'num_max_cycles_approx': 153}\n",
      "Running test: Finding the Max Cycle in the Graph - Polynomial Time Approximation - 100x100 graph\n",
      "Test 'Finding the Max Cycle in the Graph - Polynomial Time Approximation - 100x100 graph' completed in 0.009643 seconds\n",
      "Result of test 'Finding the Max Cycle in the Graph - Polynomial Time Approximation - 100x100 graph': {'max_cycles_length_approx': 10, 'num_max_cycles_approx': 123}\n"
     ]
    },
    {
     "data": {
      "text/plain": [
       "({'max_cycles_length_approx': 10, 'num_max_cycles_approx': 123},\n",
       " 0.009643291996326298)"
      ]
     },
     "execution_count": 52,
     "metadata": {},
     "output_type": "execute_result"
    }
   ],
   "source": [
    "approxCyclesTestingUtil.run_test({\"adjacency_matrix\":graph_3x3_parsed['adjacency_matrix'],\"is_directed\":graph_3x3_parsed['is_directed'],\"iterations\":1000}, \"Finding the Max Cycle in the Graph - Polynomial Time Approximation - 3x3 graph\")\n",
    "approxCyclesTestingUtil.run_test({\"adjacency_matrix\":graph_7x7_parsed['adjacency_matrix'],\"is_directed\":graph_7x7_parsed['is_directed'],\"iterations\":1000}, \"Finding the Max Cycle in the Graph - Polynomial Time Approximation - 7x7 graph\")\n",
    "approxCyclesTestingUtil.run_test({\"adjacency_matrix\":graph_10x10_parsed['adjacency_matrix'],\"is_directed\":graph_10x10_parsed['is_directed'],\"iterations\":1000}, \"Finding the Max Cycle in the Graph - Polynomial Time Approximation - 10x10 graph\")\n",
    "approxCyclesTestingUtil.run_test({\"adjacency_matrix\":graph_10x10_parsed['adjacency_matrix'],\"is_directed\":graph_20x20_parsed['is_directed'],\"iterations\":1000}, \"Finding the Max Cycle in the Graph - Polynomial Time Approximation - 20x20 graph\")\n",
    "approxCyclesTestingUtil.run_test({\"adjacency_matrix\":graph_10x10_parsed['adjacency_matrix'],\"is_directed\":graph_100x100_parsed['is_directed'],\"iterations\":1000}, \"Finding the Max Cycle in the Graph - Polynomial Time Approximation - 100x100 graph\")"
   ]
  },
  {
   "cell_type": "markdown",
   "metadata": {},
   "source": [
    "#### Testing different inputs - 5000 iterations"
   ]
  },
  {
   "cell_type": "code",
   "execution_count": 53,
   "metadata": {},
   "outputs": [
    {
     "name": "stdout",
     "output_type": "stream",
     "text": [
      "Running test: Finding the Max Cycle in the Graph - Polynomial Time Approximation - 3x3 graph\n",
      "Test 'Finding the Max Cycle in the Graph - Polynomial Time Approximation - 3x3 graph' completed in 0.014024 seconds\n",
      "Result of test 'Finding the Max Cycle in the Graph - Polynomial Time Approximation - 3x3 graph': {'max_cycles_length_approx': 3, 'num_max_cycles_approx': 1}\n",
      "Running test: Finding the Max Cycle in the Graph - Polynomial Time Approximation - 7x7 graph\n",
      "Test 'Finding the Max Cycle in the Graph - Polynomial Time Approximation - 7x7 graph' completed in 0.034594 seconds\n",
      "Result of test 'Finding the Max Cycle in the Graph - Polynomial Time Approximation - 7x7 graph': {'max_cycles_length_approx': 7, 'num_max_cycles_approx': 62}\n",
      "Running test: Finding the Max Cycle in the Graph - Polynomial Time Approximation - 10x10 graph\n",
      "Test 'Finding the Max Cycle in the Graph - Polynomial Time Approximation - 10x10 graph' completed in 0.052462 seconds\n",
      "Result of test 'Finding the Max Cycle in the Graph - Polynomial Time Approximation - 10x10 graph': {'max_cycles_length_approx': 10, 'num_max_cycles_approx': 266}\n",
      "Running test: Finding the Max Cycle in the Graph - Polynomial Time Approximation - 20x20 graph\n",
      "Test 'Finding the Max Cycle in the Graph - Polynomial Time Approximation - 20x20 graph' completed in 0.038644 seconds\n",
      "Result of test 'Finding the Max Cycle in the Graph - Polynomial Time Approximation - 20x20 graph': {'max_cycles_length_approx': 10, 'num_max_cycles_approx': 436}\n",
      "Running test: Finding the Max Cycle in the Graph - Polynomial Time Approximation - 100x100 graph\n",
      "Test 'Finding the Max Cycle in the Graph - Polynomial Time Approximation - 100x100 graph' completed in 0.045583 seconds\n",
      "Result of test 'Finding the Max Cycle in the Graph - Polynomial Time Approximation - 100x100 graph': {'max_cycles_length_approx': 10, 'num_max_cycles_approx': 273}\n"
     ]
    },
    {
     "data": {
      "text/plain": [
       "({'max_cycles_length_approx': 10, 'num_max_cycles_approx': 273},\n",
       " 0.04558345800614916)"
      ]
     },
     "execution_count": 53,
     "metadata": {},
     "output_type": "execute_result"
    }
   ],
   "source": [
    "approxCyclesTestingUtil.run_test({\"adjacency_matrix\":graph_3x3_parsed['adjacency_matrix'],\"is_directed\":graph_3x3_parsed['is_directed'],\"iterations\":5000}, \"Finding the Max Cycle in the Graph - Polynomial Time Approximation - 3x3 graph\")\n",
    "approxCyclesTestingUtil.run_test({\"adjacency_matrix\":graph_7x7_parsed['adjacency_matrix'],\"is_directed\":graph_7x7_parsed['is_directed'],\"iterations\":5000}, \"Finding the Max Cycle in the Graph - Polynomial Time Approximation - 7x7 graph\")\n",
    "approxCyclesTestingUtil.run_test({\"adjacency_matrix\":graph_10x10_parsed['adjacency_matrix'],\"is_directed\":graph_10x10_parsed['is_directed'],\"iterations\":5000}, \"Finding the Max Cycle in the Graph - Polynomial Time Approximation - 10x10 graph\")\n",
    "approxCyclesTestingUtil.run_test({\"adjacency_matrix\":graph_10x10_parsed['adjacency_matrix'],\"is_directed\":graph_20x20_parsed['is_directed'],\"iterations\":5000}, \"Finding the Max Cycle in the Graph - Polynomial Time Approximation - 20x20 graph\")\n",
    "approxCyclesTestingUtil.run_test({\"adjacency_matrix\":graph_10x10_parsed['adjacency_matrix'],\"is_directed\":graph_100x100_parsed['is_directed'],\"iterations\":5000}, \"Finding the Max Cycle in the Graph - Polynomial Time Approximation - 100x100 graph\")"
   ]
  },
  {
   "cell_type": "markdown",
   "metadata": {},
   "source": [
    "#### Testing different inputs - 10000 iterations"
   ]
  },
  {
   "cell_type": "code",
   "execution_count": 54,
   "metadata": {},
   "outputs": [
    {
     "name": "stdout",
     "output_type": "stream",
     "text": [
      "Running test: Finding the Max Cycle in the Graph - Polynomial Time Approximation - 3x3 graph\n",
      "Test 'Finding the Max Cycle in the Graph - Polynomial Time Approximation - 3x3 graph' completed in 0.027756 seconds\n",
      "Result of test 'Finding the Max Cycle in the Graph - Polynomial Time Approximation - 3x3 graph': {'max_cycles_length_approx': 3, 'num_max_cycles_approx': 1}\n",
      "Running test: Finding the Max Cycle in the Graph - Polynomial Time Approximation - 7x7 graph\n",
      "Test 'Finding the Max Cycle in the Graph - Polynomial Time Approximation - 7x7 graph' completed in 0.065615 seconds\n",
      "Result of test 'Finding the Max Cycle in the Graph - Polynomial Time Approximation - 7x7 graph': {'max_cycles_length_approx': 7, 'num_max_cycles_approx': 62}\n",
      "Running test: Finding the Max Cycle in the Graph - Polynomial Time Approximation - 10x10 graph\n",
      "Test 'Finding the Max Cycle in the Graph - Polynomial Time Approximation - 10x10 graph' completed in 0.090834 seconds\n",
      "Result of test 'Finding the Max Cycle in the Graph - Polynomial Time Approximation - 10x10 graph': {'max_cycles_length_approx': 10, 'num_max_cycles_approx': 290}\n",
      "Running test: Finding the Max Cycle in the Graph - Polynomial Time Approximation - 20x20 graph\n",
      "Test 'Finding the Max Cycle in the Graph - Polynomial Time Approximation - 20x20 graph' completed in 0.074297 seconds\n",
      "Result of test 'Finding the Max Cycle in the Graph - Polynomial Time Approximation - 20x20 graph': {'max_cycles_length_approx': 10, 'num_max_cycles_approx': 530}\n",
      "Running test: Finding the Max Cycle in the Graph - Polynomial Time Approximation - 100x100 graph\n",
      "Test 'Finding the Max Cycle in the Graph - Polynomial Time Approximation - 100x100 graph' completed in 0.092352 seconds\n",
      "Result of test 'Finding the Max Cycle in the Graph - Polynomial Time Approximation - 100x100 graph': {'max_cycles_length_approx': 10, 'num_max_cycles_approx': 291}\n"
     ]
    },
    {
     "data": {
      "text/plain": [
       "({'max_cycles_length_approx': 10, 'num_max_cycles_approx': 291},\n",
       " 0.09235229100158904)"
      ]
     },
     "execution_count": 54,
     "metadata": {},
     "output_type": "execute_result"
    }
   ],
   "source": [
    "approxCyclesTestingUtil.run_test({\"adjacency_matrix\":graph_3x3_parsed['adjacency_matrix'],\"is_directed\":graph_3x3_parsed['is_directed'],\"iterations\":10000}, \"Finding the Max Cycle in the Graph - Polynomial Time Approximation - 3x3 graph\")\n",
    "approxCyclesTestingUtil.run_test({\"adjacency_matrix\":graph_7x7_parsed['adjacency_matrix'],\"is_directed\":graph_7x7_parsed['is_directed'],\"iterations\":10000}, \"Finding the Max Cycle in the Graph - Polynomial Time Approximation - 7x7 graph\")\n",
    "approxCyclesTestingUtil.run_test({\"adjacency_matrix\":graph_10x10_parsed['adjacency_matrix'],\"is_directed\":graph_10x10_parsed['is_directed'],\"iterations\":10000}, \"Finding the Max Cycle in the Graph - Polynomial Time Approximation - 10x10 graph\")\n",
    "approxCyclesTestingUtil.run_test({\"adjacency_matrix\":graph_10x10_parsed['adjacency_matrix'],\"is_directed\":graph_20x20_parsed['is_directed'],\"iterations\":10000}, \"Finding the Max Cycle in the Graph - Polynomial Time Approximation - 20x20 graph\")\n",
    "approxCyclesTestingUtil.run_test({\"adjacency_matrix\":graph_10x10_parsed['adjacency_matrix'],\"is_directed\":graph_100x100_parsed['is_directed'],\"iterations\":10000}, \"Finding the Max Cycle in the Graph - Polynomial Time Approximation - 100x100 graph\")"
   ]
  },
  {
   "cell_type": "markdown",
   "metadata": {},
   "source": [
    "## 3.4 Finding the Minimum Extension to Achieve Hamiltonian Graph"
   ]
  },
  {
   "cell_type": "markdown",
   "metadata": {},
   "source": [
    "#### Data preparation"
   ]
  },
  {
   "cell_type": "code",
   "execution_count": 55,
   "metadata": {},
   "outputs": [],
   "source": [
    "is_3x3_directed, graph_3x3 = inputGeneratorUtil.generate_random_graph(3)\n",
    "graph_3x3_parsed = inputParserUtil.parse_single_graph(graph_3x3)\n",
    "\n",
    "is_6x6_directed, graph_6x6 = inputGeneratorUtil.generate_random_graph(6)\n",
    "graph_6x6_parsed = inputParserUtil.parse_single_graph(graph_6x6)\n",
    "\n",
    "is_10x10_directed, graph_10x10 = inputGeneratorUtil.generate_random_graph(10)\n",
    "graph_10x10_parsed = inputParserUtil.parse_single_graph(graph_10x10)\n"
   ]
  },
  {
   "cell_type": "markdown",
   "metadata": {},
   "source": [
    "#### Testing utils preparation"
   ]
  },
  {
   "cell_type": "code",
   "execution_count": 56,
   "metadata": {},
   "outputs": [],
   "source": [
    "minNumExtensionExactTestingUtil = TestingUtil(min_num_hamiltonian_extension_exact)\n",
    "minNumExtensionAproxTestingUtil = TestingUtil(min_num_hamiltonian_extension_approx)"
   ]
  },
  {
   "cell_type": "markdown",
   "metadata": {},
   "source": [
    "### 3.4.1 Finding the Minimum Extension to Achieve Hamiltonian Graph - Exact Algorithm"
   ]
  },
  {
   "cell_type": "markdown",
   "metadata": {},
   "source": [
    "#### Testing different inputs"
   ]
  },
  {
   "cell_type": "code",
   "execution_count": 58,
   "metadata": {},
   "outputs": [
    {
     "name": "stdout",
     "output_type": "stream",
     "text": [
      "Running test: Finding the Min Number of Hamiltonian Extension - Exact Algorithm - 3x3 graph\n",
      "Test 'Finding the Min Number of Hamiltonian Extension - Exact Algorithm - 3x3 graph' completed in 0.000025 seconds\n",
      "Result of test 'Finding the Min Number of Hamiltonian Extension - Exact Algorithm - 3x3 graph': 2\n",
      "Running test: Finding the Min Number of Hamiltonian Extension - Exact Algorithm - 6x6 graph\n",
      "Test 'Finding the Min Number of Hamiltonian Extension - Exact Algorithm - 6x6 graph' completed in 0.002110 seconds\n",
      "Result of test 'Finding the Min Number of Hamiltonian Extension - Exact Algorithm - 6x6 graph': 1\n",
      "Running test: Finding the Min Number of Hamiltonian Extension - Exact Algorithm - 10x10 graph\n",
      "Test 'Finding the Min Number of Hamiltonian Extension - Exact Algorithm - 10x10 graph' completed in 0.007318 seconds\n",
      "Result of test 'Finding the Min Number of Hamiltonian Extension - Exact Algorithm - 10x10 graph': 0\n"
     ]
    },
    {
     "data": {
      "text/plain": [
       "(0, 0.007317583993426524)"
      ]
     },
     "execution_count": 58,
     "metadata": {},
     "output_type": "execute_result"
    }
   ],
   "source": [
    "minNumExtensionExactTestingUtil.run_test({\"adjacency_matrix\":graph_3x3_parsed['adjacency_matrix'],\"is_directed\":graph_3x3_parsed['is_directed']}, \"Finding the Min Number of Hamiltonian Extension - Exact Algorithm - 3x3 graph\")\n",
    "minNumExtensionExactTestingUtil.run_test({\"adjacency_matrix\":graph_6x6_parsed['adjacency_matrix'],\"is_directed\":graph_6x6_parsed['is_directed']}, \"Finding the Min Number of Hamiltonian Extension - Exact Algorithm - 6x6 graph\")\n",
    "minNumExtensionExactTestingUtil.run_test({\"adjacency_matrix\":graph_10x10_parsed['adjacency_matrix'],\"is_directed\":graph_10x10_parsed['is_directed']}, \"Finding the Min Number of Hamiltonian Extension - Exact Algorithm - 10x10 graph\")"
   ]
  },
  {
   "cell_type": "markdown",
   "metadata": {},
   "source": [
    "### 3.4.2 Finding the Minimum Extension to Achieve Hamiltonian Graph - Polynomial Time Approach"
   ]
  },
  {
   "cell_type": "markdown",
   "metadata": {},
   "source": [
    "#### Testing different inputs"
   ]
  },
  {
   "cell_type": "code",
   "execution_count": 59,
   "metadata": {},
   "outputs": [
    {
     "name": "stdout",
     "output_type": "stream",
     "text": [
      "Running test: Finding the Min Number of Hamiltonian Extension - Polynomial Time Approximation - 3x3 graph\n",
      "Test 'Finding the Min Number of Hamiltonian Extension - Polynomial Time Approximation - 3x3 graph' completed in 0.000020 seconds\n",
      "Result of test 'Finding the Min Number of Hamiltonian Extension - Polynomial Time Approximation - 3x3 graph': 1\n",
      "Running test: Finding the Min Number of Hamiltonian Extension - Polynomial Time Approximation - 6x6 graph\n",
      "Test 'Finding the Min Number of Hamiltonian Extension - Polynomial Time Approximation - 6x6 graph' completed in 0.000063 seconds\n",
      "Result of test 'Finding the Min Number of Hamiltonian Extension - Polynomial Time Approximation - 6x6 graph': 1\n",
      "Running test: Finding the Min Number of Hamiltonian Extension - Polynomial Time Approximation - 10x10 graph\n",
      "Test 'Finding the Min Number of Hamiltonian Extension - Polynomial Time Approximation - 10x10 graph' completed in 0.000011 seconds\n",
      "Result of test 'Finding the Min Number of Hamiltonian Extension - Polynomial Time Approximation - 10x10 graph': 0\n"
     ]
    },
    {
     "data": {
      "text/plain": [
       "(0, 1.0832998668774962e-05)"
      ]
     },
     "execution_count": 59,
     "metadata": {},
     "output_type": "execute_result"
    }
   ],
   "source": [
    "minNumExtensionAproxTestingUtil.run_test({\"adjacency_matrix\":graph_3x3_parsed['adjacency_matrix'],\"is_directed\":graph_3x3_parsed['is_directed'],\"iterations\":1000}, \"Finding the Min Number of Hamiltonian Extension - Polynomial Time Approximation - 3x3 graph\")\n",
    "minNumExtensionAproxTestingUtil.run_test({\"adjacency_matrix\":graph_6x6_parsed['adjacency_matrix'],\"is_directed\":graph_6x6_parsed['is_directed'],\"iterations\":1000}, \"Finding the Min Number of Hamiltonian Extension - Polynomial Time Approximation - 6x6 graph\")\n",
    "minNumExtensionAproxTestingUtil.run_test({\"adjacency_matrix\":graph_10x10_parsed['adjacency_matrix'],\"is_directed\":graph_10x10_parsed['is_directed'],\"iterations\":1000}, \"Finding the Min Number of Hamiltonian Extension - Polynomial Time Approximation - 10x10 graph\")"
   ]
  },
  {
   "cell_type": "markdown",
   "metadata": {},
   "source": [
    "## 3.5 Finding All Hamiltonian Cycles"
   ]
  },
  {
   "cell_type": "markdown",
   "metadata": {},
   "source": [
    "#### Data preparation"
   ]
  },
  {
   "cell_type": "code",
   "execution_count": 60,
   "metadata": {},
   "outputs": [],
   "source": [
    "is_3x3_directed, graph_3x3 = inputGeneratorUtil.generate_random_graph(3)\n",
    "graph_3x3_parsed = inputParserUtil.parse_single_graph(graph_3x3)\n",
    "\n",
    "is_6x6_directed, graph_6x6 = inputGeneratorUtil.generate_random_graph(6)\n",
    "graph_6x6_parsed = inputParserUtil.parse_single_graph(graph_6x6)\n",
    "\n",
    "is_10x10_directed, graph_10x10 = inputGeneratorUtil.generate_random_graph(10)\n",
    "graph_10x10_parsed = inputParserUtil.parse_single_graph(graph_10x10)\n",
    "\n",
    "is_15x15_directed, graph_15x15 = inputGeneratorUtil.generate_random_graph(15)\n",
    "graph_15x15_parsed = inputParserUtil.parse_single_graph(graph_15x15)"
   ]
  },
  {
   "cell_type": "markdown",
   "metadata": {},
   "source": [
    "#### Testing utils preparation"
   ]
  },
  {
   "cell_type": "code",
   "execution_count": 61,
   "metadata": {},
   "outputs": [],
   "source": [
    "# exact\n",
    "countHamiltinianCyclesBacktrackTestingUtil = TestingUtil(count_hamiltonian_cycles_backtrack)\n",
    "# polynomial approximation\n",
    "countHamiltinianCyclesRandomizedBiasedTestingUtil = TestingUtil(count_hamiltonian_cycles_randomized_biased)\n"
   ]
  },
  {
   "cell_type": "markdown",
   "metadata": {},
   "source": [
    "### 3.5.1 Finding All Hamiltonian Cycles - Exact Algorithm"
   ]
  },
  {
   "cell_type": "markdown",
   "metadata": {},
   "source": [
    "#### Testing different inputs"
   ]
  },
  {
   "cell_type": "code",
   "execution_count": 62,
   "metadata": {},
   "outputs": [
    {
     "name": "stdout",
     "output_type": "stream",
     "text": [
      "Running test: Finding All Hamiltonian Cycles - Exact Algorithm - 3x3 graph\n",
      "Test 'Finding All Hamiltonian Cycles - Exact Algorithm - 3x3 graph' completed in 0.000008 seconds\n",
      "Result of test 'Finding All Hamiltonian Cycles - Exact Algorithm - 3x3 graph': 0\n",
      "Running test: Finding All Hamiltonian Cycles - Exact Algorithm - 6x6 graph\n",
      "Test 'Finding All Hamiltonian Cycles - Exact Algorithm - 6x6 graph' completed in 0.000088 seconds\n",
      "Result of test 'Finding All Hamiltonian Cycles - Exact Algorithm - 6x6 graph': 1\n",
      "Running test: Finding All Hamiltonian Cycles - Exact Algorithm - 10x10 graph\n",
      "Test 'Finding All Hamiltonian Cycles - Exact Algorithm - 10x10 graph' completed in 0.061683 seconds\n",
      "Result of test 'Finding All Hamiltonian Cycles - Exact Algorithm - 10x10 graph': 234\n"
     ]
    },
    {
     "data": {
      "text/plain": [
       "(234, 0.06168324999453034)"
      ]
     },
     "execution_count": 62,
     "metadata": {},
     "output_type": "execute_result"
    }
   ],
   "source": [
    "countHamiltinianCyclesBacktrackTestingUtil.run_test({\"adjacency_matrix\":graph_3x3_parsed['adjacency_matrix'],\"is_directed\":graph_3x3_parsed['is_directed']}, \"Finding All Hamiltonian Cycles - Exact Algorithm - 3x3 graph\")\n",
    "countHamiltinianCyclesBacktrackTestingUtil.run_test({\"adjacency_matrix\":graph_6x6_parsed['adjacency_matrix'],\"is_directed\":graph_6x6_parsed['is_directed']}, \"Finding All Hamiltonian Cycles - Exact Algorithm - 6x6 graph\")\n",
    "countHamiltinianCyclesBacktrackTestingUtil.run_test({\"adjacency_matrix\":graph_10x10_parsed['adjacency_matrix'],\"is_directed\":graph_10x10_parsed['is_directed']}, \"Finding All Hamiltonian Cycles - Exact Algorithm - 10x10 graph\")"
   ]
  },
  {
   "cell_type": "markdown",
   "metadata": {},
   "source": [
    "### 3.5.2 Finding All Hamiltonian Cycles - Polynomial Time Approach"
   ]
  },
  {
   "cell_type": "markdown",
   "metadata": {},
   "source": [
    "#### Testing different inputs - randomized biased testing"
   ]
  },
  {
   "cell_type": "code",
   "execution_count": 63,
   "metadata": {},
   "outputs": [
    {
     "name": "stdout",
     "output_type": "stream",
     "text": [
      "Running test: Finding All Hamiltonian Cycles - Polynomial Time Approximation - 3x3 graph\n",
      "Test 'Finding All Hamiltonian Cycles - Polynomial Time Approximation - 3x3 graph' completed in 0.001333 seconds\n",
      "Result of test 'Finding All Hamiltonian Cycles - Polynomial Time Approximation - 3x3 graph': 0\n",
      "Running test: Finding All Hamiltonian Cycles - Polynomial Time Approximation - 6x6 graph\n",
      "Test 'Finding All Hamiltonian Cycles - Polynomial Time Approximation - 6x6 graph' completed in 0.002111 seconds\n",
      "Result of test 'Finding All Hamiltonian Cycles - Polynomial Time Approximation - 6x6 graph': 1\n",
      "Running test: Finding All Hamiltonian Cycles - Polynomial Time Approximation - 10x10 graph\n",
      "Test 'Finding All Hamiltonian Cycles - Polynomial Time Approximation - 10x10 graph' completed in 0.003932 seconds\n",
      "Result of test 'Finding All Hamiltonian Cycles - Polynomial Time Approximation - 10x10 graph': 1\n",
      "Running test: Finding All Hamiltonian Cycles - Polynomial Time Approximation - 15x15 graph\n",
      "Test 'Finding All Hamiltonian Cycles - Polynomial Time Approximation - 15x15 graph' completed in 0.005203 seconds\n",
      "Result of test 'Finding All Hamiltonian Cycles - Polynomial Time Approximation - 15x15 graph': 0\n"
     ]
    },
    {
     "data": {
      "text/plain": [
       "(0, 0.005203166991122998)"
      ]
     },
     "execution_count": 63,
     "metadata": {},
     "output_type": "execute_result"
    }
   ],
   "source": [
    "countHamiltinianCyclesRandomizedBiasedTestingUtil.run_test({\"adjacency_matrix\":graph_3x3_parsed['adjacency_matrix'],\"is_directed\":graph_3x3_parsed['is_directed'],\"iterations\":1000}, \"Finding All Hamiltonian Cycles - Polynomial Time Approximation - 3x3 graph\")\n",
    "countHamiltinianCyclesRandomizedBiasedTestingUtil.run_test({\"adjacency_matrix\":graph_6x6_parsed['adjacency_matrix'],\"is_directed\":graph_6x6_parsed['is_directed'],\"iterations\":1000}, \"Finding All Hamiltonian Cycles - Polynomial Time Approximation - 6x6 graph\")\n",
    "countHamiltinianCyclesRandomizedBiasedTestingUtil.run_test({\"adjacency_matrix\":graph_10x10_parsed['adjacency_matrix'],\"is_directed\":graph_10x10_parsed['is_directed'],\"iterations\":1000}, \"Finding All Hamiltonian Cycles - Polynomial Time Approximation - 10x10 graph\")\n",
    "countHamiltinianCyclesRandomizedBiasedTestingUtil.run_test({\"adjacency_matrix\":graph_15x15_parsed['adjacency_matrix'],\"is_directed\":graph_15x15_parsed['is_directed'],\"iterations\":1000}, \"Finding All Hamiltonian Cycles - Polynomial Time Approximation - 15x15 graph\")\n",
    "\n"
   ]
  }
 ],
 "metadata": {
  "kernelspec": {
   "display_name": "env",
   "language": "python",
   "name": "python3"
  },
  "language_info": {
   "codemirror_mode": {
    "name": "ipython",
    "version": 3
   },
   "file_extension": ".py",
   "mimetype": "text/x-python",
   "name": "python",
   "nbconvert_exporter": "python",
   "pygments_lexer": "ipython3",
   "version": "3.11.5"
  }
 },
 "nbformat": 4,
 "nbformat_minor": 2
}
